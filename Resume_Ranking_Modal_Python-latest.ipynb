{
  "nbformat": 4,
  "nbformat_minor": 0,
  "metadata": {
    "colab": {
      "name": "Resume_Ranking_Modal_Python.ipynb",
      "provenance": [],
      "collapsed_sections": []
    },
    "kernelspec": {
      "display_name": "Python 3",
      "language": "python",
      "name": "python3"
    },
    "language_info": {
      "codemirror_mode": {
        "name": "ipython",
        "version": 3
      },
      "file_extension": ".py",
      "mimetype": "text/x-python",
      "name": "python",
      "nbconvert_exporter": "python",
      "pygments_lexer": "ipython3",
      "version": "3.7.6"
    }
  },
  "cells": [
    {
      "cell_type": "code",
      "metadata": {
        "id": "zd6ItRGQgNzV"
      },
      "source": [
        "\n",
        "!pip install tika\n",
        "!git clone https://github.com/nitesh251/ResumeRanking.git\n",
        "!pip install nltk\n",
        "!pip install gensim\n",
        "!pip install wordcloud\n",
        "!pip install jupyterthemes\n",
        "!pip install xlsxwriter\n",
        "!pip install openpyxl\n",
        "!pip install pdfplumber"
      ],
      "execution_count": null,
      "outputs": []
    },
    {
      "cell_type": "code",
      "metadata": {
        "id": "FcLGXcUq4k8U"
      },
      "source": [
        "#resume_path='/content/ResumeRanking/resume21aug/'\n",
        "resume_path='/content/ResumeRanking/resumetest/'"
      ],
      "execution_count": null,
      "outputs": []
    },
    {
      "cell_type": "code",
      "metadata": {
        "id": "RMhXulqKhRF5"
      },
      "source": [
        "#!git clone https://github.com/GitTanmai/Tanmai-practice.git"
      ],
      "execution_count": null,
      "outputs": []
    },
    {
      "cell_type": "code",
      "metadata": {
        "colab": {
          "base_uri": "https://localhost:8080/"
        },
        "id": "8_GqQf_k4E4f",
        "outputId": "26fe33b6-9fbd-474a-e818-f9facd349b2f"
      },
      "source": [
        "from sklearn.model_selection import RandomizedSearchCV\n",
        "from scipy import stats\n",
        "import pdfplumber\n",
        "from sklearn.feature_extraction.text import CountVectorizer\n",
        "from sklearn.ensemble import RandomForestClassifier\n",
        "from sklearn.model_selection import GridSearchCV,RandomizedSearchCV\n",
        "from sklearn import svm\n",
        "from sklearn.model_selection import StratifiedKFold\n",
        "from sklearn.model_selection import train_test_split\n",
        "from sklearn.naive_bayes import MultinomialNB\n",
        "from sklearn.model_selection import cross_val_score\n",
        "# metrics are used to find accuracy or error\n",
        "from sklearn import metrics\n",
        "from sklearn.ensemble import RandomForestClassifier  \n",
        "from sklearn.feature_extraction.text import CountVectorizer\n",
        "\n",
        "# compare the number of repeats for repeated k-fold cross-validation\n",
        "from scipy.stats import sem\n",
        "from numpy import mean\n",
        "from numpy import std\n",
        "from sklearn.datasets import make_classification\n",
        "from sklearn.model_selection import RepeatedKFold\n",
        "from sklearn.model_selection import cross_val_score\n",
        "from sklearn.linear_model import LogisticRegression\n",
        "from matplotlib import pyplot\n",
        "from scipy.stats import sem\n",
        "from tika import parser\n",
        "# Get additional stopwords from nltk\n",
        "from nltk.corpus import stopwords\n",
        "import os\n",
        "import xlsxwriter\n",
        "from os import listdir\n",
        "from os.path import isfile, join\n",
        "from io import StringIO\n",
        "import pandas as pd\n",
        "from collections import Counter\n",
        "import en_core_web_sm\n",
        "nlp = en_core_web_sm.load()\n",
        "from spacy.matcher import PhraseMatcher\n",
        "import numpy as np\n",
        "import matplotlib.pyplot as plt\n",
        "import seaborn as sns\n",
        "from wordcloud import WordCloud, STOPWORDS\n",
        "import nltk\n",
        "from nltk.stem import PorterStemmer, WordNetLemmatizer\n",
        "from nltk.corpus import stopwords\n",
        "from nltk.tokenize import word_tokenize, sent_tokenize\n",
        "import gensim\n",
        "from gensim.utils import simple_preprocess\n",
        "from gensim.parsing.preprocessing import STOPWORDS\n",
        "from sklearn.metrics import classification_report, confusion_matrix\n",
        "from statistics import mean\n",
        "#Function to read resumes from the folder one by one\n",
        "nltk.download(\"stopwords\")"
      ],
      "execution_count": null,
      "outputs": [
        {
          "output_type": "stream",
          "name": "stdout",
          "text": [
            "[nltk_data] Downloading package stopwords to /root/nltk_data...\n",
            "[nltk_data]   Unzipping corpora/stopwords.zip.\n"
          ]
        },
        {
          "output_type": "execute_result",
          "data": {
            "text/plain": [
              "True"
            ]
          },
          "metadata": {},
          "execution_count": 4
        }
      ]
    },
    {
      "cell_type": "code",
      "metadata": {
        "colab": {
          "base_uri": "https://localhost:8080/"
        },
        "id": "f3_HzsNTiFAz",
        "outputId": "344d599a-09e1-418f-b3f3-fabf5e7cfb14"
      },
      "source": [
        "#mypath_r='/content/ResumeRanking/javareject' #enter your path here where you saved the resumes\n",
        "mypath_r='/content/ResumeRanking/Python Screen reject/Python Screen reject'\n",
        "onlyfiles_r = [os.path.join(mypath_r, f) for f in os.listdir(mypath_r) if os.path.isfile(os.path.join(mypath_r, f))]\n",
        "print(onlyfiles_r)\n",
        "#mypath_s='/content/ResumeRanking/javaselect' #enter your path here where you saved the resumes\n",
        "mypath_s='/content/ResumeRanking/Python screen selects/Python screen selects'\n",
        "onlyfiles_s = [os.path.join(mypath_s, f) for f in os.listdir(mypath_s) if os.path.isfile(os.path.join(mypath_s, f))]"
      ],
      "execution_count": null,
      "outputs": [
        {
          "output_type": "stream",
          "name": "stdout",
          "text": [
            "['/content/ResumeRanking/Python Screen reject/Python Screen reject/AnkitJaiswal.pdf', '/content/ResumeRanking/Python Screen reject/Python Screen reject/Sankalp.pdf', '/content/ResumeRanking/Python Screen reject/Python Screen reject/AjaypalYadav.pdf', '/content/ResumeRanking/Python Screen reject/Python Screen reject/MohanRaghuDachepalli[4_3].pdf', '/content/ResumeRanking/Python Screen reject/Python Screen reject/shikhasartan_4.4 Years_Gurgaon.pdf', '/content/ResumeRanking/Python Screen reject/Python Screen reject/ParasSoni.pdf', '/content/ResumeRanking/Python Screen reject/Python Screen reject/Ashwin-Python.pdf', '/content/ResumeRanking/Python Screen reject/Python Screen reject/Abiral_Pandey_Fullstack_Java.pdf', '/content/ResumeRanking/Python Screen reject/Python Screen reject/Sanjay_Soni_Python Engineer_ITC Infotech.pdf', '/content/ResumeRanking/Python Screen reject/Python Screen reject/Diksha Kumari_Tata Consultancy Services_Talent Toppers.pdf', '/content/ResumeRanking/Python Screen reject/Python Screen reject/PraveenKumar[5_5] (1).pdf', '/content/ResumeRanking/Python Screen reject/Python Screen reject/DesaiBhaskarReddy-Python.pdf', '/content/ResumeRanking/Python Screen reject/Python Screen reject/Avnish Kumar_WGD Analytics_Talent Toppers.pdf', '/content/ResumeRanking/Python Screen reject/Python Screen reject/GauravHarbola.pdf', '/content/ResumeRanking/Python Screen reject/Python Screen reject/Kripanath Mohan_Gisspi Solution_Talent Toppers.pdf', '/content/ResumeRanking/Python Screen reject/Python Screen reject/Shokin_Orahi_Talent Toppers.pdf', '/content/ResumeRanking/Python Screen reject/Python Screen reject/Anjali Gupta_Denave_Talent Toppers.pdf', '/content/ResumeRanking/Python Screen reject/Python Screen reject/RichardMartin.pdf', '/content/ResumeRanking/Python Screen reject/Python Screen reject/ShilpaKhurana-Python.pdf', '/content/ResumeRanking/Python Screen reject/Python Screen reject/Aryan_Python Developer.pdf', '/content/ResumeRanking/Python Screen reject/Python Screen reject/DIBYANSHUKUMAR.pdf', '/content/ResumeRanking/Python Screen reject/Python Screen reject/SajidDayer.pdf', '/content/ResumeRanking/Python Screen reject/Python Screen reject/RohitSrivastava.pdf', '/content/ResumeRanking/Python Screen reject/Python Screen reject/Devendra kumar singh_Python Developer.pdf', '/content/ResumeRanking/Python Screen reject/Python Screen reject/Prerna Thakur_US Tech Solutions_Talent Toppers.pdf', '/content/ResumeRanking/Python Screen reject/Python Screen reject/AmanKumar.pdf', '/content/ResumeRanking/Python Screen reject/Python Screen reject/VisheshTandon[2_1].pdf', '/content/ResumeRanking/Python Screen reject/Python Screen reject/Sachin Dhankar_Modista_Talent Toppers.pdf', '/content/ResumeRanking/Python Screen reject/Python Screen reject/Abhishek Khanchi - Python.pdf', '/content/ResumeRanking/Python Screen reject/Python Screen reject/GAURAV GUPTA.pdf', '/content/ResumeRanking/Python Screen reject/Python Screen reject/VivekGupta.pdf', '/content/ResumeRanking/Python Screen reject/Python Screen reject/Priyal-Python.pdf', '/content/ResumeRanking/Python Screen reject/Python Screen reject/GarimaVishvakarma-Python.pdf', '/content/ResumeRanking/Python Screen reject/Python Screen reject/MOHAMMEDIMTIAZ.pdf', '/content/ResumeRanking/Python Screen reject/Python Screen reject/Resume_ShailendraKumar.pdf', '/content/ResumeRanking/Python Screen reject/Python Screen reject/VaibhavSaxena.pdf', '/content/ResumeRanking/Python Screen reject/Python Screen reject/Ishant Chhabra.pdf', '/content/ResumeRanking/Python Screen reject/Python Screen reject/ManishKumarYadav-Python.pdf', '/content/ResumeRanking/Python Screen reject/Python Screen reject/TarunKumar[5_0].pdf', '/content/ResumeRanking/Python Screen reject/Python Screen reject/Anjali Gupta.pdf', '/content/ResumeRanking/Python Screen reject/Python Screen reject/BareeraSohail.pdf', '/content/ResumeRanking/Python Screen reject/Python Screen reject/NikhilSharma-Python.pdf', '/content/ResumeRanking/Python Screen reject/Python Screen reject/RajendraMishra.pdf', '/content/ResumeRanking/Python Screen reject/Python Screen reject/Naveen Kumar Rai_Python Developer.pdf', '/content/ResumeRanking/Python Screen reject/Python Screen reject/LatikaChawla.pdf', '/content/ResumeRanking/Python Screen reject/Python Screen reject/RavinderKumarTanwar[2_6].pdf', '/content/ResumeRanking/Python Screen reject/Python Screen reject/ShivKumar[14_0].pdf', '/content/ResumeRanking/Python Screen reject/Python Screen reject/SantoshSingh.pdf', '/content/ResumeRanking/Python Screen reject/Python Screen reject/MeghaMondal.pdf', '/content/ResumeRanking/Python Screen reject/Python Screen reject/NiteshKhare_4.4 Years_Gurgaon.pdf', '/content/ResumeRanking/Python Screen reject/Python Screen reject/YashShukla.pdf', '/content/ResumeRanking/Python Screen reject/Python Screen reject/Devendrakumarsingh.pdf', '/content/ResumeRanking/Python Screen reject/Python Screen reject/Siddhant.pdf', '/content/ResumeRanking/Python Screen reject/Python Screen reject/RajeshKumar-Python.pdf', '/content/ResumeRanking/Python Screen reject/Python Screen reject/Kartikey Porwal_Mindfire Solutions_Talent Toppers.pdf', '/content/ResumeRanking/Python Screen reject/Python Screen reject/AsifAhmed.pdf', '/content/ResumeRanking/Python Screen reject/Python Screen reject/Alekhya Resume.pdf', '/content/ResumeRanking/Python Screen reject/Python Screen reject/Suman Kumar_GetMeCab_Talent Toppers.pdf', '/content/ResumeRanking/Python Screen reject/Python Screen reject/Dhiraj-Python Engineer.pdf', '/content/ResumeRanking/Python Screen reject/Python Screen reject/Amulya Komatineni.pdf', '/content/ResumeRanking/Python Screen reject/Python Screen reject/Amar Sr BSA.pdf', '/content/ResumeRanking/Python Screen reject/Python Screen reject/AnkitBhati_4.9 Years_Gurgaon.pdf']\n"
          ]
        }
      ]
    },
    {
      "cell_type": "code",
      "metadata": {
        "colab": {
          "base_uri": "https://localhost:8080/",
          "height": 129
        },
        "id": "TNCbiRu0l5-a",
        "outputId": "59988837-56fb-4ece-b421-76e0c0469ad1"
      },
      "source": [
        "#rejected data into dataframe\n",
        "\n",
        "reject=[]\n",
        "for i in range(0, len(onlyfiles_r)):\n",
        "    file = onlyfiles_r[i]\n",
        "    if 'pdf' in file:\n",
        "      #print(file)\n",
        "      parsed_pdf = parser.from_file(file)\n",
        "      data = parsed_pdf['content'] \n",
        "      safe_text = data.replace(\"\\n\", \"\").replace(\"\\\\\", \"\")\n",
        "      #print(safe_text)\n",
        "      reject.append(safe_text)\n",
        "df_reject = pd.DataFrame(reject, columns = ['resume_text' ])\n",
        "df_reject['class']='rejected'\n",
        "df_reject.head(1)"
      ],
      "execution_count": null,
      "outputs": [
        {
          "output_type": "stream",
          "name": "stderr",
          "text": [
            "2021-10-22 06:23:25,685 [MainThread  ] [INFO ]  Retrieving http://search.maven.org/remotecontent?filepath=org/apache/tika/tika-server/1.24/tika-server-1.24.jar to /tmp/tika-server.jar.\n",
            "2021-10-22 06:23:30,480 [MainThread  ] [INFO ]  Retrieving http://search.maven.org/remotecontent?filepath=org/apache/tika/tika-server/1.24/tika-server-1.24.jar.md5 to /tmp/tika-server.jar.md5.\n",
            "2021-10-22 06:23:31,722 [MainThread  ] [WARNI]  Failed to see startup log message; retrying...\n"
          ]
        },
        {
          "output_type": "execute_result",
          "data": {
            "text/html": [
              "<div>\n",
              "<style scoped>\n",
              "    .dataframe tbody tr th:only-of-type {\n",
              "        vertical-align: middle;\n",
              "    }\n",
              "\n",
              "    .dataframe tbody tr th {\n",
              "        vertical-align: top;\n",
              "    }\n",
              "\n",
              "    .dataframe thead th {\n",
              "        text-align: right;\n",
              "    }\n",
              "</style>\n",
              "<table border=\"1\" class=\"dataframe\">\n",
              "  <thead>\n",
              "    <tr style=\"text-align: right;\">\n",
              "      <th></th>\n",
              "      <th>resume_text</th>\n",
              "      <th>class</th>\n",
              "    </tr>\n",
              "  </thead>\n",
              "  <tbody>\n",
              "    <tr>\n",
              "      <th>0</th>\n",
              "      <td>Ankit Jaiswal Resume/ www.enhancv.com Powered ...</td>\n",
              "      <td>rejected</td>\n",
              "    </tr>\n",
              "  </tbody>\n",
              "</table>\n",
              "</div>"
            ],
            "text/plain": [
              "                                         resume_text     class\n",
              "0  Ankit Jaiswal Resume/ www.enhancv.com Powered ...  rejected"
            ]
          },
          "metadata": {},
          "execution_count": 6
        }
      ]
    },
    {
      "cell_type": "code",
      "metadata": {
        "id": "CoQjfc-FodAa",
        "colab": {
          "base_uri": "https://localhost:8080/",
          "height": 79
        },
        "outputId": "4800c5fc-0790-4d48-a119-fd1a99a63eb4"
      },
      "source": [
        "#selected data into dataframe\n",
        "select=[]\n",
        "for i in range(0, len(onlyfiles_s)):\n",
        "    file = onlyfiles_s[i]\n",
        "    if 'pdf' in file:\n",
        "      #print(file)\n",
        "      parsed_pdf = parser.from_file(file)\n",
        "      data = parsed_pdf['content'] \n",
        "      safe_text = data.replace(\"\\n\", \"\").replace(\"\\\\\", \"\")\n",
        "      #print(safe_text)\n",
        "      select.append(safe_text)\n",
        "df_select = pd.DataFrame(select, columns = ['resume_text' ])\n",
        "df_select['class']='selected'\n",
        "df_select.head(1)\n"
      ],
      "execution_count": null,
      "outputs": [
        {
          "output_type": "execute_result",
          "data": {
            "text/html": [
              "<div>\n",
              "<style scoped>\n",
              "    .dataframe tbody tr th:only-of-type {\n",
              "        vertical-align: middle;\n",
              "    }\n",
              "\n",
              "    .dataframe tbody tr th {\n",
              "        vertical-align: top;\n",
              "    }\n",
              "\n",
              "    .dataframe thead th {\n",
              "        text-align: right;\n",
              "    }\n",
              "</style>\n",
              "<table border=\"1\" class=\"dataframe\">\n",
              "  <thead>\n",
              "    <tr style=\"text-align: right;\">\n",
              "      <th></th>\n",
              "      <th>resume_text</th>\n",
              "      <th>class</th>\n",
              "    </tr>\n",
              "  </thead>\n",
              "  <tbody>\n",
              "    <tr>\n",
              "      <th>0</th>\n",
              "      <td>SHRUTI JOSHI Data Analyst | Python Developer |...</td>\n",
              "      <td>selected</td>\n",
              "    </tr>\n",
              "  </tbody>\n",
              "</table>\n",
              "</div>"
            ],
            "text/plain": [
              "                                         resume_text     class\n",
              "0  SHRUTI JOSHI Data Analyst | Python Developer |...  selected"
            ]
          },
          "metadata": {},
          "execution_count": 7
        }
      ]
    },
    {
      "cell_type": "code",
      "metadata": {
        "id": "c6dYbJBEriu0"
      },
      "source": [
        "#merging selected and rejected data\n",
        "resume_df=df_reject.append(df_select, ignore_index=True) \n"
      ],
      "execution_count": null,
      "outputs": []
    },
    {
      "cell_type": "code",
      "metadata": {
        "id": "IWnls1_mD7gV",
        "colab": {
          "base_uri": "https://localhost:8080/",
          "height": 296
        },
        "outputId": "6816ba4d-f149-4f4f-fda0-646d35e5de69"
      },
      "source": [
        "sns.countplot(y=resume_df['class'],label='count_plot')"
      ],
      "execution_count": null,
      "outputs": [
        {
          "output_type": "execute_result",
          "data": {
            "text/plain": [
              "<matplotlib.axes._subplots.AxesSubplot at 0x7efd8c1b9890>"
            ]
          },
          "metadata": {},
          "execution_count": 9
        },
        {
          "output_type": "display_data",
          "data": {
            "image/png": "[encoded data removed]",
            "text/plain": [
              "<Figure size 432x288 with 1 Axes>"
            ]
          },
          "metadata": {
            "needs_background": "light"
          }
        }
      ]
    },
    {
      "cell_type": "code",
      "metadata": {
        "id": "BRA85ha7pcVm"
      },
      "source": [
        "pd.options.display.max_colwidth = 1000"
      ],
      "execution_count": null,
      "outputs": []
    },
    {
      "cell_type": "code",
      "metadata": {
        "id": "cZZjlzQenXRI",
        "colab": {
          "base_uri": "https://localhost:8080/"
        },
        "outputId": "fb8b8b15-2f45-4964-9477-a745840ccc2c"
      },
      "source": [
        "# obtain dataframe information\n",
        "resume_df.info()"
      ],
      "execution_count": null,
      "outputs": [
        {
          "output_type": "stream",
          "name": "stdout",
          "text": [
            "<class 'pandas.core.frame.DataFrame'>\n",
            "RangeIndex: 260 entries, 0 to 259\n",
            "Data columns (total 2 columns):\n",
            " #   Column       Non-Null Count  Dtype \n",
            "---  ------       --------------  ----- \n",
            " 0   resume_text  260 non-null    object\n",
            " 1   class        260 non-null    object\n",
            "dtypes: object(2)\n",
            "memory usage: 4.2+ KB\n"
          ]
        }
      ]
    },
    {
      "cell_type": "code",
      "metadata": {
        "id": "7ak3V9F87keK",
        "colab": {
          "base_uri": "https://localhost:8080/"
        },
        "outputId": "9b9a6986-a09a-4617-dea4-138a368b344c"
      },
      "source": [
        "resume_df['class'].value_counts()"
      ],
      "execution_count": null,
      "outputs": [
        {
          "output_type": "execute_result",
          "data": {
            "text/plain": [
              "selected    198\n",
              "rejected     62\n",
              "Name: class, dtype: int64"
            ]
          },
          "metadata": {},
          "execution_count": 12
        }
      ]
    },
    {
      "cell_type": "code",
      "metadata": {
        "id": "lMHJFK-r6-sP"
      },
      "source": [
        "#encoding of class column into 0(rejected) and 1(selected)\n",
        "resume_df['class']=resume_df['class'].apply(lambda x:1 if x=='selected' else 0)\n"
      ],
      "execution_count": null,
      "outputs": []
    },
    {
      "cell_type": "code",
      "metadata": {
        "id": "xlZjHcAb8t91",
        "colab": {
          "base_uri": "https://localhost:8080/"
        },
        "outputId": "2419acec-0eec-4c84-fc89-e97201a3fb8e"
      },
      "source": [
        "\n",
        "stop_words=stopwords.words('english')\n",
        "print(stop_words)\n",
        "stop_words.extend(['from','subject','re','gmail','com','Mobile','Email'])"
      ],
      "execution_count": null,
      "outputs": [
        {
          "output_type": "stream",
          "name": "stdout",
          "text": [
            "['i', 'me', 'my', 'myself', 'we', 'our', 'ours', 'ourselves', 'you', \"you're\", \"you've\", \"you'll\", \"you'd\", 'your', 'yours', 'yourself', 'yourselves', 'he', 'him', 'his', 'himself', 'she', \"she's\", 'her', 'hers', 'herself', 'it', \"it's\", 'its', 'itself', 'they', 'them', 'their', 'theirs', 'themselves', 'what', 'which', 'who', 'whom', 'this', 'that', \"that'll\", 'these', 'those', 'am', 'is', 'are', 'was', 'were', 'be', 'been', 'being', 'have', 'has', 'had', 'having', 'do', 'does', 'did', 'doing', 'a', 'an', 'the', 'and', 'but', 'if', 'or', 'because', 'as', 'until', 'while', 'of', 'at', 'by', 'for', 'with', 'about', 'against', 'between', 'into', 'through', 'during', 'before', 'after', 'above', 'below', 'to', 'from', 'up', 'down', 'in', 'out', 'on', 'off', 'over', 'under', 'again', 'further', 'then', 'once', 'here', 'there', 'when', 'where', 'why', 'how', 'all', 'any', 'both', 'each', 'few', 'more', 'most', 'other', 'some', 'such', 'no', 'nor', 'not', 'only', 'own', 'same', 'so', 'than', 'too', 'very', 's', 't', 'can', 'will', 'just', 'don', \"don't\", 'should', \"should've\", 'now', 'd', 'll', 'm', 'o', 're', 've', 'y', 'ain', 'aren', \"aren't\", 'couldn', \"couldn't\", 'didn', \"didn't\", 'doesn', \"doesn't\", 'hadn', \"hadn't\", 'hasn', \"hasn't\", 'haven', \"haven't\", 'isn', \"isn't\", 'ma', 'mightn', \"mightn't\", 'mustn', \"mustn't\", 'needn', \"needn't\", 'shan', \"shan't\", 'shouldn', \"shouldn't\", 'wasn', \"wasn't\", 'weren', \"weren't\", 'won', \"won't\", 'wouldn', \"wouldn't\"]\n"
          ]
        }
      ]
    },
    {
      "cell_type": "code",
      "metadata": {
        "id": "hmVNbxz2RLwY"
      },
      "source": [
        "###########################################################\n",
        "# Cleaned text\n",
        "#removing extra characters like bullets\n",
        "###########################################################"
      ],
      "execution_count": null,
      "outputs": []
    },
    {
      "cell_type": "code",
      "metadata": {
        "id": "-Sl0PEtkKhfn"
      },
      "source": [
        "# Remove stop words and remove words with 2 or less characters\n",
        "def preprocess(text):\n",
        "    result = []\n",
        "    for token in gensim.utils.simple_preprocess(text) :\n",
        "        if token not in gensim.parsing.preprocessing.STOPWORDS and len(token) > 2 and token not in stop_words:\n",
        "            result.append(token)\n",
        "            \n",
        "    return ' '.join(result)"
      ],
      "execution_count": null,
      "outputs": []
    },
    {
      "cell_type": "code",
      "metadata": {
        "id": "s-cCXJL_XsIj"
      },
      "source": [
        "import re\n",
        "def remove_emojis(data):\n",
        "    emoj = re.compile(\"[\"\n",
        "        u\"\\U0001F600-\\U0001F64F\"  # emoticons\n",
        "        u\"\\U0001F300-\\U0001F5FF\"  # symbols & pictographs\n",
        "        u\"\\U0001F680-\\U0001F6FF\"  # transport & map symbols\n",
        "        u\"\\U0001F1E0-\\U0001F1FF\"  # flags (iOS)\n",
        "        u\"\\U00002500-\\U00002BEF\"  # chinese char\n",
        "        u\"\\U00002702-\\U000027B0\"\n",
        "        u\"\\U00002702-\\U000027B0\"\n",
        "        u\"\\U000024C2-\\U0001F251\"\n",
        "        u\"\\U0001f926-\\U0001f937\"\n",
        "        u\"\\U00010000-\\U0010ffff\"\n",
        "        u\"\\u2640-\\u2642\" \n",
        "        u\"\\u2600-\\u2B55\"\n",
        "        u\"\\u200d\"\n",
        "        u\"\\u23cf\"\n",
        "        u\"\\u23e9\"\n",
        "        u\"\\u231a\"\n",
        "        u\"\\ufe0f\"  # dingbats\n",
        "        u\"\\u3030\"\n",
        "                      \"]+\", re.UNICODE)\n",
        "    return re.sub(emoj, '', data)\n"
      ],
      "execution_count": null,
      "outputs": []
    },
    {
      "cell_type": "code",
      "metadata": {
        "colab": {
          "base_uri": "https://localhost:8080/"
        },
        "id": "E8_3QD4Po3rE",
        "outputId": "699b57de-984d-4304-cb5c-c60347594091"
      },
      "source": [
        "re.compile(\"[\"\n",
        "        u\"\\U0001F600-\\U0001F64F\"  # emoticons\n",
        "        u\"\\U0001F300-\\U0001F5FF\"  # symbols & pictographs\n",
        "        u\"\\U0001F680-\\U0001F6FF\"  # transport & map symbols\n",
        "        u\"\\U0001F1E0-\\U0001F1FF\"  # flags (iOS)\n",
        "        u\"\\U00002500-\\U00002BEF\"  # chinese char\n",
        "        u\"\\U00002702-\\U000027B0\"\n",
        "        u\"\\U00002702-\\U000027B0\"\n",
        "        u\"\\U000024C2-\\U0001F251\"\n",
        "        u\"\\U0001f926-\\U0001f937\"\n",
        "        u\"\\U00010000-\\U0010ffff\"\n",
        "        u\"\\u2640-\\u2642\" \n",
        "        u\"\\u2600-\\u2B55\"\n",
        "        u\"\\u200d\"\n",
        "        u\"\\u23cf\"\n",
        "        u\"\\u23e9\"\n",
        "        u\"\\u231a\"\n",
        "        u\"\\ufe0f\"  # dingbats\n",
        "        u\"\\u3030\"\n",
        "                      \"]+\", re.UNICODE)"
      ],
      "execution_count": null,
      "outputs": [
        {
          "output_type": "execute_result",
          "data": {
            "text/plain": [
              "re.compile(r'[😀-🙏🌀-🗿🚀-\\U0001f6ff\\U0001f1e0-🇿─-⯯✂-➰✂-➰Ⓜ-🉑🤦-🤷𐀀-\\U0010ffff♀-♂☀-⭕\\u200d⏏⏩⌚️〰]+',\n",
              "re.UNICODE)"
            ]
          },
          "metadata": {},
          "execution_count": 18
        }
      ]
    },
    {
      "cell_type": "code",
      "metadata": {
        "id": "GACKQ-qpX4eT"
      },
      "source": [
        "import string\n",
        "def remove_punct(headline_text):\n",
        "    table=str.maketrans('','',string.punctuation)\n",
        "    return headline_text.translate(table)"
      ],
      "execution_count": null,
      "outputs": []
    },
    {
      "cell_type": "code",
      "metadata": {
        "id": "MKevbdxKYCt1"
      },
      "source": [
        "def remove_numbers(text):\n",
        "    # define the pattern to keep\n",
        "    pattern = r'[^a-zA-z.,!?/:;\\\"\\'\\s]' \n",
        "    return re.sub(pattern, '', text)"
      ],
      "execution_count": null,
      "outputs": []
    },
    {
      "cell_type": "code",
      "metadata": {
        "id": "Xhh3-a4tRgIR"
      },
      "source": [
        "\n",
        "resume_df['resume_text']=resume_df['resume_text'].apply(lambda x: x.replace('\\r',''))\n",
        "resume_df['cleaned']=resume_df['resume_text'].apply(preprocess)\n",
        "resume_df['cleaned'] = resume_df['cleaned'].apply(remove_emojis)\n",
        "resume_df['cleaned'] = resume_df['cleaned'].apply(remove_punct)\n",
        "resume_df['cleaned'] = resume_df['cleaned'].apply(remove_numbers)"
      ],
      "execution_count": null,
      "outputs": []
    },
    {
      "cell_type": "code",
      "metadata": {
        "id": "VXoj-rLAGGpn",
        "scrolled": false,
        "colab": {
          "base_uri": "https://localhost:8080/",
          "height": 296
        },
        "outputId": "d1c8ecf5-069a-4ccd-fd93-59654151bcb7"
      },
      "source": [
        "# Plot the counts of flagged vs not flagged\n",
        "sns.countplot(y=resume_df['class'],label='count_plot')"
      ],
      "execution_count": null,
      "outputs": [
        {
          "output_type": "execute_result",
          "data": {
            "text/plain": [
              "<matplotlib.axes._subplots.AxesSubplot at 0x7efd8c12b090>"
            ]
          },
          "metadata": {},
          "execution_count": 22
        },
        {
          "output_type": "display_data",
          "data": {
            "image/png": "[encoded data removed]",
            "text/plain": [
              "<Figure size 432x288 with 1 Axes>"
            ]
          },
          "metadata": {
            "needs_background": "light"
          }
        }
      ]
    },
    {
      "cell_type": "code",
      "metadata": {
        "id": "HTUOMF5nUnbC"
      },
      "source": [
        "# plot the word cloud for text that is flagged\n",
        "#plt.figure(figsize = (20,20)) \n",
        "#wc=WordCloud(max_words=2000,width=1000,height=200,stopwords=stop_words).generate(str(resume_df[resume_df['class']==1].\n",
        "#cleaned))\n",
        "#plt.axis(\"off\")\n",
        "#plt.imshow(wc)"
      ],
      "execution_count": null,
      "outputs": []
    },
    {
      "cell_type": "code",
      "metadata": {
        "id": "r20ny06ECP1B"
      },
      "source": [
        "#plt.figure(figsize = (20,20)) \n",
        "#wc=WordCloud(max_words=2000,width=1000,height=200,stopwords=stop_words).generate(str(resume_df[resume_df['class']==0].\n",
        "#cleaned))\n",
        "#plt.axis(\"off\")\n",
        "#plt.imshow(wc)"
      ],
      "execution_count": null,
      "outputs": []
    },
    {
      "cell_type": "code",
      "metadata": {
        "id": "5VBlhIwtNVuU"
      },
      "source": [
        "#================================================================\n",
        "#Applying Naive Bayes Model\n",
        "#================================================================"
      ],
      "execution_count": null,
      "outputs": []
    },
    {
      "cell_type": "code",
      "metadata": {
        "colab": {
          "base_uri": "https://localhost:8080/"
        },
        "id": "nHlz6gkjlNXT",
        "outputId": "95b1f95e-b48d-43cd-ff99-0fac3d4aa010"
      },
      "source": [
        "\n",
        "# split data\n",
        "X_train, X_test, y_train, y_test = train_test_split(resume_df['cleaned'], resume_df['class'],\n",
        "                                                    test_size=0.30, random_state=55) \n",
        "# fit vocabulary and extract word count features\n",
        "cv = CountVectorizer()\n",
        "X_traincv = cv.fit_transform(X_train)  \n",
        "X_testcv = cv.transform(X_test)\n",
        "\n",
        "# learn and predict using MultinomialNB\n",
        "clfNB = MultinomialNB(alpha=0.1)\n",
        "clfNB.fit(X_traincv, y_train)\n",
        "\n",
        "# so far so good, but when I predict on X_testcv\n",
        "y_pred = clfNB.predict(X_testcv) \n",
        "ml=metrics.accuracy_score(y_test, y_pred)\n",
        "y_predict_train = clfNB.predict(X_traincv)\n",
        "print(\"Training ACCURACY OF THE Naive Bayes MODEL: \", metrics.accuracy_score(y_train, y_predict_train))\n",
        "print(\"ACCURACY OF THE Naive Bayes MODEL: \", metrics.accuracy_score(y_test, y_pred))"
      ],
      "execution_count": null,
      "outputs": [
        {
          "output_type": "stream",
          "name": "stdout",
          "text": [
            "Training ACCURACY OF THE Naive Bayes MODEL:  1.0\n",
            "ACCURACY OF THE Naive Bayes MODEL:  0.8461538461538461\n"
          ]
        }
      ]
    },
    {
      "cell_type": "code",
      "metadata": {
        "id": "Tf8O6rTFp86q",
        "colab": {
          "base_uri": "https://localhost:8080/"
        },
        "outputId": "e6e7569c-98b6-417a-e77c-b92a5a9637fd"
      },
      "source": [
        "X_test"
      ],
      "execution_count": null,
      "outputs": [
        {
          "output_type": "execute_result",
          "data": {
            "text/plain": [
              "95     shekhar kashyap address ram nagar sector gurugram india shekhar smk experience tata consultancy service gurgaon haryana november present working experience banking financial domain leading bank lloyd banking group working experience expertise hadoop ecosystems hdfs hive spark sqoop scalability distributed computing high performance computing experience languages java python sql working experience service oriented architecture platform soa datapower build soap https rest json based applications ibm data power hands experience working tools like pyspark eclipse sqoop hive service tool git github ucd urban code deployment devops pipeline continuous integration continuous deployment google cloud certified professional data engineer year microsoft azure certified year projects pyspark data analysis lloyds bank term deposit data analysis etl spark loaded data sqoop hdfs created spark dataframe transform spark sql extract following insights marketing success rate failure rate ranking maxi...\n",
              "233    ambesh singh senior software engineer cloud email ambesh singh location gurugram india experience senior software engineer mediaagility present gurugram india designing developing gcp dataflow pipelines etl jobs building reusable python modules scripts handle multiple layers data ingestion orchestrated etl workflow airflow automate dataflow jobs worked designing developing restful web services apis python django framework developed python modules load manipulate visualize data relational databases dataframes pandas created python scripts data scraping business technology analyst associates nov pune india programmer analyst cognizant june nov pune india key achievements google cloud certified skilled designing developing serverless applications multiple cloud platforms successfully designed fast secure click cloud infrastructure application teams successfully migrated onprem clusters native cloud architecture designed platform monitoring services cloud admins track usage activities ...\n",
              "201    archit vermadata engineera process oriented data engineer attention highly proficient developing datawarehouse solutions likecreating data pipelines data processing frameworks leveraging bigdata hadoop ecosystem spark impala hdfs amazon web services databricks power user pyspark python spark sql excel word visio architv https www linkedin archit verma skillspython etl elt sql sparkpyspark hadoop hdfs amazon web servicesaws glue aws lambda pandasairflow aws step functions jsonaws cloudwatch athena mysqlnetezza html visio unixshell scripting excel wordinformatica powercenter certified cloud web services projectsproject control tata consultancy services internship june auust awardsrising star awardtata consultancy services nov chennai received project management duringthe development cycle project spot awardtata consultancy services aug dec chennai received quality work thedevelopment project hindi technology solutions associatezs associates jan present gurgaon creating data pipelines...\n",
              "241    microsoft word abhishek talend big data kumar big data developer talend etl contact address sector faridabad phone mail abhishek yahoo linkedin https www linkedin theabhisrt skills languages sql python etl tools talend big data abinitio big data tools spark hive hdfs hadoop sqoop databases oracle cloud platform microsoft azure resource managers yarn ambari worked cohesion industry leaders trendsetters pharmacy retail industry developing intelligent business solutions global impact stores analytics forecasting consulted world largest pharmacy chain leveraging digital tools technologies apache spark ambari hdfs spark sql hive sqoop optimize inventory forecasting strategies offerings implemented novel batch monitoring forecasting models talend big data integration data integration developed numerous etl jobs talend big data platform migrated multiple jobs initio talend work history present talend big data developer tata consultancy services noida currently working tcs total experience...\n",
              "194    nidhi singh nidhisinghjsr linkedin nidhi singh software engineer years experience seeking roles software application development software maintenance script development automation python shell skills language python shell database oracle postgresql influxdb cloud azure aws data structures algorithm git jenkins experience software developer amdocs client vodafone ziggo netherlands present served client facing role making new application related loan credit management primarily python shell interactive scripts involving packages libraries interacting companies collaborating products end end service better customer satisfaction performed regression level analysis verify quality function following agile methodology collaborated stages systems development lifecycle requirement gathering production releases handling daily tasks defects issues regular basis site reliability engineer amdocs present designed architecture developed marketed generic automation self healing solution meets cust...\n",
              "                                                                                                                                                                                                                                                                                                                                                                                                                                                                                                                        ...                                                                                                                                                                                                                                                                                                                                                                                                                                                                                                                   \n",
              "47     santosh singh software developer years experience managing software project python developer data analyst mnc clients versed predictive modelling data processing solve challenging business problems experience data analyst bell aliant dispatch unit cgi page personal information email santosh engg outlook phone linkedin linkedin santosh engg apr present jul apr nov jul fulfilled data engineer python developer duties high end capital firm python developer fwfm bell canada cgi fulfilled python developer duties high end capital firm associate software engineer ladbrokes cgi fulfilled python oracle sql developer high end capital created presented models potential holding technical skills python numpy pandas expert mysql cloud aws advanced academics data visualization tableau aug apr science engineering anna university higher senior secondary school cbse new delhimatplotlib advanced gitlab docker jenkin advanced certifications awards certified data scientist statistics eda advanced aug in...\n",
              "159    hazi rizwan raza software engineer big data mobile rizwaanhazi summary total years professional experience big data technologies includes requirements gathering data analysis design development integration testing deployments documentation hands experience solutions big data spark python hive hbase oozie excellent knowledge hands experience hadoop architecture components hdfs job tracker task tracker node data node good working experience different relational systems hands experience building wrapper shell scripts analysis shell commands practice excellent communication creative technically competent problem solving focus business satisfaction drive results team player individual contributor good collaboration skills work experience united health group gurugram july april software engineer project uhn reporting experience job management fair scheduling developed job processing scripts oozie workflow developed spark scripts scala shell commands requirement loaded data spark rdd memo...\n",
              "25     aman kumarassociate staff engineeremail amankumar comcontact experience summaryi years experience software industry experience data science enthusiast offers skills writing software helps buildgreat products helping business succeed goals proficient development awide variety web applications exposure developing web applications python python framework django flask javascript react angular bleedingedge technologies keen data science projects data mining dataanalysis machine learning skill setprogramming andscripting languagespython javascript html frameworks tools librariesdjango django rest framework flask angular react reduxservers platforms nginx supervisor aws docker docker compose cddatabases postgres mysql redis linux ubuntu windows macexperience organisation nagarro soft pvt duration july jaarvis tech pvt ltdduration jan organisation spring board pvt duration jan dec internship technology science shri mata vaishno devi university jammu indiamailto amankumar comhonors awardsac...\n",
              "63     akanksha guptabig data engineerhaving years experience data analysis data processing anddevelopment big data technologies gargakanksha saharanpur indiawork experiencedata present chennai indiadeveloping maintaining spark scala code etlfrom azure blob azure synapse analytics usingdatabricks configured pipeline ingesting data azureblob azure synapse analytics spark monitoring optimizing performance spark andazure synapse analytics works poc replacement snowflake azuresynapse analytic software software solution pvt chennai indiadeveloped spark core spark sql scripts scalafor faster data processing involved converting hive sql queries spark rdd working hadoop cluster architecture andmonitoring cluster working hadoop clusters hortonwork hdp distribution software engineerisha technology solution pvt noida indiainvolved creating hive tables loading data andwriting hive queries run internally mapreduce way hive analyze partitioned bucketed dataand compute metrics reporting involve requirem...\n",
              "151    sumit kumar saxena email sumitsaxena phone professional exp years experience software developing debugging process improvement experienced python pyspark mysql redshift experienced aws services like glue redshift athena boto experienced data analysis dataframes sparksql experienced working spark rdds map reduce functions pyspark experienced data migration aws sas redshift good knowledge relational database model experienced working python integrated development environments like idle jupyter python experienced handling large volume data data migration export played role data analyst data profiling activities established strong communication project stake holders possess good analytical debugging skill experience working client place work orientation according client requirements facing handling clients regular basis worked regularly tables procedures packages functions collections shell scripting server management strengths include ability meeting deadlines deliverables achieving e...\n",
              "Name: cleaned, Length: 78, dtype: object"
            ]
          },
          "metadata": {},
          "execution_count": 27
        }
      ]
    },
    {
      "cell_type": "code",
      "metadata": {
        "colab": {
          "base_uri": "https://localhost:8080/"
        },
        "id": "GOlPw6G2qzEj",
        "outputId": "1c8edbda-40bd-4a6b-f76a-b5044f9dc3c9"
      },
      "source": [
        "y_pred"
      ],
      "execution_count": null,
      "outputs": [
        {
          "output_type": "execute_result",
          "data": {
            "text/plain": [
              "array([1, 1, 1, 1, 1, 1, 1, 1, 1, 1, 1, 1, 1, 1, 1, 1, 1, 1, 1, 1, 1, 0,\n",
              "       1, 0, 1, 1, 1, 1, 1, 1, 1, 1, 0, 1, 1, 1, 1, 1, 1, 1, 1, 1, 1, 1,\n",
              "       1, 1, 1, 1, 1, 1, 1, 1, 1, 1, 1, 1, 1, 1, 1, 1, 1, 0, 1, 1, 1, 0,\n",
              "       1, 1, 1, 1, 1, 1, 0, 1, 1, 0, 1, 1])"
            ]
          },
          "metadata": {},
          "execution_count": 28
        }
      ]
    },
    {
      "cell_type": "code",
      "metadata": {
        "colab": {
          "base_uri": "https://localhost:8080/"
        },
        "id": "MLKc79-9rcK7",
        "outputId": "9e1a9d84-8ea6-4c0e-aa56-15bf1b7aabd6"
      },
      "source": [
        "y_test"
      ],
      "execution_count": null,
      "outputs": [
        {
          "output_type": "execute_result",
          "data": {
            "text/plain": [
              "95     1\n",
              "233    1\n",
              "201    1\n",
              "241    1\n",
              "194    1\n",
              "      ..\n",
              "47     0\n",
              "159    1\n",
              "25     0\n",
              "63     1\n",
              "151    1\n",
              "Name: class, Length: 78, dtype: int64"
            ]
          },
          "metadata": {},
          "execution_count": 29
        }
      ]
    },
    {
      "cell_type": "code",
      "metadata": {
        "colab": {
          "base_uri": "https://localhost:8080/"
        },
        "id": "l-cwFrexo0nq",
        "outputId": "29a2351f-4580-4dd1-c911-54e53844f832"
      },
      "source": [
        "from sklearn.metrics import f1_score \n",
        "f1_score(y_test, y_pred, average='binary')\n"
      ],
      "execution_count": null,
      "outputs": [
        {
          "output_type": "execute_result",
          "data": {
            "text/plain": [
              "0.9090909090909091"
            ]
          },
          "metadata": {},
          "execution_count": 30
        }
      ]
    },
    {
      "cell_type": "code",
      "metadata": {
        "colab": {
          "base_uri": "https://localhost:8080/",
          "height": 286
        },
        "id": "g_H-b9IQMsRo",
        "outputId": "de77b7c0-0b3f-4d9e-e0ad-c6155d0c4351"
      },
      "source": [
        "#confusion matrix on Naive Bayes test data\n",
        "#training data model\n",
        "#y_predict_train = NB_classifier.predict(X_train)\n",
        "NBcm = confusion_matrix(y_test, y_pred)\n",
        "sns.heatmap(NBcm, annot = True)"
      ],
      "execution_count": null,
      "outputs": [
        {
          "output_type": "execute_result",
          "data": {
            "text/plain": [
              "<matplotlib.axes._subplots.AxesSubplot at 0x7efd8bb39f90>"
            ]
          },
          "metadata": {},
          "execution_count": 31
        },
        {
          "output_type": "display_data",
          "data": {
            "image/png": "[encoded data removed]",
            "text/plain": [
              "<Figure size 432x288 with 2 Axes>"
            ]
          },
          "metadata": {
            "needs_background": "light"
          }
        }
      ]
    },
    {
      "cell_type": "code",
      "metadata": {
        "id": "pMkGySqpRXY6"
      },
      "source": [
        "#================================================================\n",
        "#Applying RandomForestClassifier\n",
        "#================================================================"
      ],
      "execution_count": null,
      "outputs": []
    },
    {
      "cell_type": "code",
      "metadata": {
        "colab": {
          "base_uri": "https://localhost:8080/"
        },
        "id": "YulXIMJ2t30D",
        "outputId": "cfecdb64-2ac2-4e9f-f2b5-64cfb61330d1"
      },
      "source": [
        "#Random Forest\n",
        "clf1 = RandomForestClassifier(n_estimators = 1000,random_state=1)  \n",
        "\n",
        "  \n",
        "# Training the model on the training dataset\n",
        "# fit function is used to train the model using the training sets as parameters\n",
        "clf1.fit(X_traincv, y_train)\n",
        "  \n",
        "# performing predictions on the test dataset\n",
        "y_pred1 = clf1.predict(X_testcv)\n",
        "  \n",
        "# metrics are used to find accuracy or error\n",
        "from sklearn import metrics  \n",
        "\n",
        "# using metrics module for accuracy calculation\n",
        "y_predict_train1 = clf1.predict(X_traincv)\n",
        "print(\"Training ACCURACY OF THE RF MODEL: \", metrics.accuracy_score(y_train, y_predict_train1))\n",
        "print(\"ACCURACY OF THE Random Forest MODEL: \", metrics.accuracy_score(y_test, y_pred1))\n",
        "rl=metrics.accuracy_score(y_test, y_pred1)"
      ],
      "execution_count": null,
      "outputs": [
        {
          "output_type": "stream",
          "name": "stdout",
          "text": [
            "Training ACCURACY OF THE RF MODEL:  1.0\n",
            "ACCURACY OF THE Random Forest MODEL:  0.782051282051282\n"
          ]
        }
      ]
    },
    {
      "cell_type": "code",
      "metadata": {
        "colab": {
          "base_uri": "https://localhost:8080/",
          "height": 282
        },
        "id": "ZTuyAeVClgL_",
        "outputId": "60932c82-b016-4e77-c998-03bfeaebcfa9"
      },
      "source": [
        "RFcm = confusion_matrix(y_test, y_pred1)\n",
        "sns.heatmap(RFcm, annot = True)"
      ],
      "execution_count": null,
      "outputs": [
        {
          "output_type": "execute_result",
          "data": {
            "text/plain": [
              "<matplotlib.axes._subplots.AxesSubplot at 0x7efd839373d0>"
            ]
          },
          "metadata": {},
          "execution_count": 34
        },
        {
          "output_type": "display_data",
          "data": {
            "image/png": "[encoded data removed]",
            "text/plain": [
              "<Figure size 432x288 with 2 Axes>"
            ]
          },
          "metadata": {
            "needs_background": "light"
          }
        }
      ]
    },
    {
      "cell_type": "code",
      "metadata": {
        "id": "25z6-QDARazP"
      },
      "source": [
        "#================================================================\n",
        "#Applying SVM\n",
        "#================================================================"
      ],
      "execution_count": null,
      "outputs": []
    },
    {
      "cell_type": "code",
      "metadata": {
        "colab": {
          "base_uri": "https://localhost:8080/"
        },
        "id": "S408hcBD1L1r",
        "outputId": "2f0d90d5-cc7c-4df5-ec03-46827fd1dffe"
      },
      "source": [
        "#SVM\n",
        "from sklearn import svm\n",
        "svclf = svm.SVC(random_state=1)\n",
        "\n",
        "# Training the model on the training dataset\n",
        "# fit function is used to train the model using the training sets as parameters\n",
        "svclf.fit(X_traincv, y_train)\n",
        "  \n",
        "# performing predictions on the test dataset\n",
        "y_pred2 = svclf.predict(X_testcv)\n",
        "  \n",
        "# metrics are used to find accuracy or error\n",
        "from sklearn import metrics  \n",
        "\n",
        "# using metrics module for accuracy calculation\n",
        "print(\"ACCURACY OF THE SVM MODEL: \", metrics.accuracy_score(y_test, y_pred2))"
      ],
      "execution_count": null,
      "outputs": [
        {
          "output_type": "stream",
          "name": "stdout",
          "text": [
            "ACCURACY OF THE SVM MODEL:  0.782051282051282\n"
          ]
        }
      ]
    },
    {
      "cell_type": "code",
      "metadata": {
        "colab": {
          "base_uri": "https://localhost:8080/"
        },
        "id": "kl5XToh_cfes",
        "outputId": "4eddcd28-7b0e-490c-9491-37dc0287a426"
      },
      "source": [
        "svclf.score(X_traincv, y_train)"
      ],
      "execution_count": null,
      "outputs": [
        {
          "output_type": "execute_result",
          "data": {
            "text/plain": [
              "0.8571428571428571"
            ]
          },
          "metadata": {},
          "execution_count": 37
        }
      ]
    },
    {
      "cell_type": "code",
      "metadata": {
        "colab": {
          "base_uri": "https://localhost:8080/"
        },
        "id": "uPY0-sO0dVho",
        "outputId": "7f276a62-2bc4-4aad-b507-c9b4afe1690f"
      },
      "source": [
        "svclf.score(X_testcv, y_test)"
      ],
      "execution_count": null,
      "outputs": [
        {
          "output_type": "execute_result",
          "data": {
            "text/plain": [
              "0.782051282051282"
            ]
          },
          "metadata": {},
          "execution_count": 38
        }
      ]
    },
    {
      "cell_type": "code",
      "metadata": {
        "colab": {
          "base_uri": "https://localhost:8080/",
          "height": 282
        },
        "id": "whPnt4oeNIMq",
        "outputId": "be3c35bd-660e-4ece-ebf7-c81c64fc6a0d"
      },
      "source": [
        "#confusion matrix on NB\n",
        "#training data model\n",
        "#y_predict_train = NB_classifier.predict(X_train)\n",
        "\n",
        "RFcm = confusion_matrix(y_test, y_pred2)\n",
        "sns.heatmap(RFcm, annot = True)"
      ],
      "execution_count": null,
      "outputs": [
        {
          "output_type": "execute_result",
          "data": {
            "text/plain": [
              "<matplotlib.axes._subplots.AxesSubplot at 0x7efd83903f10>"
            ]
          },
          "metadata": {},
          "execution_count": 39
        },
        {
          "output_type": "display_data",
          "data": {
            "image/png": "[encoded data removed]",
            "text/plain": [
              "<Figure size 432x288 with 2 Axes>"
            ]
          },
          "metadata": {
            "needs_background": "light"
          }
        }
      ]
    },
    {
      "cell_type": "code",
      "metadata": {
        "colab": {
          "base_uri": "https://localhost:8080/",
          "height": 295
        },
        "id": "Dmu1BZPmvw6L",
        "outputId": "a451da83-5f09-42d2-cfb5-a709b8c22310"
      },
      "source": [
        "  \n",
        "\n",
        "ax= plt.subplot()\n",
        "sns.heatmap(NBcm, annot=True, fmt='g', ax=ax);  #annot=True to annotate cells, ftm='g' to disable scientific notation\n",
        "\n",
        "# labels, title and ticks\n",
        "ax.set_xlabel('Predicted labels');ax.set_ylabel('True labels'); \n",
        "ax.set_title('Confusion Matrix'); \n",
        "ax.xaxis.set_ticklabels(['Rejected', 'Selected']); ax.yaxis.set_ticklabels(['Rejected', 'Selected']);\n",
        "\n",
        "ax.figure.savefig(\"ConfusionMatrix.png\")"
      ],
      "execution_count": null,
      "outputs": [
        {
          "output_type": "display_data",
          "data": {
            "image/png": "[encoded data removed]",
            "text/plain": [
              "<Figure size 432x288 with 2 Axes>"
            ]
          },
          "metadata": {
            "needs_background": "light"
          }
        }
      ]
    },
    {
      "cell_type": "code",
      "metadata": {
        "id": "1jXvMo-rxga1"
      },
      "source": [
        "#====================================RESUME PREDICTION"
      ],
      "execution_count": null,
      "outputs": []
    },
    {
      "cell_type": "code",
      "metadata": {
        "id": "3q8wMhnkN7WO"
      },
      "source": [
        "#====================================="
      ],
      "execution_count": null,
      "outputs": []
    },
    {
      "cell_type": "code",
      "metadata": {
        "id": "LsK8DaahXoCc",
        "colab": {
          "base_uri": "https://localhost:8080/"
        },
        "outputId": "8f7ea0a5-7204-450e-8af4-9d36150feb60"
      },
      "source": [
        "#mypath='/content/ResumeRanking/MLRESUME/' #enter your path here where you saved the resumes\n",
        "mypath=resume_path\n",
        "onlyfiles = [os.path.join(mypath, f) for f in os.listdir(mypath) if os.path.isfile(os.path.join(mypath, f))]\n",
        "print(onlyfiles)\n",
        "reject=[]\n",
        "for i in range(0, len(onlyfiles)):\n",
        "    file = onlyfiles[i]\n",
        "    if 'pdf' in file:\n",
        "      #print(file)\n",
        "      parsed_pdf = parser.from_file(file)\n",
        "      data = parsed_pdf['content'] \n",
        "      safe_text = data.replace(\"\\n\", \"\").replace(\"\\\\\", \"\")\n",
        "      #print(safe_text)\n",
        "      reject.append(safe_text)\n",
        "predict_df = pd.DataFrame(reject, columns = ['resume_text' ])\n",
        "#resume_df.head(2)"
      ],
      "execution_count": null,
      "outputs": [
        {
          "output_type": "stream",
          "name": "stdout",
          "text": [
            "['/content/ResumeRanking/resumetest/Mayank Rajput.pdf', '/content/ResumeRanking/resumetest/SumitPawar.pdf', '/content/ResumeRanking/resumetest/RAJAT PALIWAL.pdf']\n"
          ]
        }
      ]
    },
    {
      "cell_type": "code",
      "metadata": {
        "id": "mOoxMDqaa8hK"
      },
      "source": [
        "predict_df['resume_text']=predict_df['resume_text'].apply(lambda x: x.replace('\\r',''))"
      ],
      "execution_count": null,
      "outputs": []
    },
    {
      "cell_type": "code",
      "metadata": {
        "id": "sENE-rhza8za"
      },
      "source": [
        "# Cleaned text\n",
        "predict_df['cleaned']=predict_df['resume_text'].apply(preprocess)\n",
        "predict_df['cleaned'] = predict_df['cleaned'].apply(remove_emojis)\n",
        "predict_df['cleaned'] = predict_df['cleaned'].apply(remove_punct)\n",
        "predict_df['cleaned'] = predict_df['cleaned'].apply(remove_numbers)\n",
        "#predict_df['cleaned']"
      ],
      "execution_count": null,
      "outputs": []
    },
    {
      "cell_type": "code",
      "metadata": {
        "id": "nPksKW6ukLMu",
        "colab": {
          "base_uri": "https://localhost:8080/"
        },
        "outputId": "ee328c7a-5156-4458-8f8e-724e7d668f29"
      },
      "source": [
        "#=====================Naive Baiyes\n",
        "X_testcv1 = cv.transform(predict_df['cleaned'])\n",
        "clfNB.predict(X_testcv1)"
      ],
      "execution_count": null,
      "outputs": [
        {
          "output_type": "execute_result",
          "data": {
            "text/plain": [
              "array([1, 1, 1])"
            ]
          },
          "metadata": {},
          "execution_count": 46
        }
      ]
    },
    {
      "cell_type": "code",
      "metadata": {
        "id": "Fo4DByULucVi",
        "colab": {
          "base_uri": "https://localhost:8080/"
        },
        "outputId": "f6265211-11af-4e56-85ab-0bac7db60b8d"
      },
      "source": [
        "#======================Random Forest\n",
        "clf1.predict(X_testcv1)"
      ],
      "execution_count": null,
      "outputs": [
        {
          "output_type": "execute_result",
          "data": {
            "text/plain": [
              "array([1, 1, 1])"
            ]
          },
          "metadata": {},
          "execution_count": 47
        }
      ]
    },
    {
      "cell_type": "code",
      "metadata": {
        "id": "rgcYqUldSXyh",
        "colab": {
          "base_uri": "https://localhost:8080/"
        },
        "outputId": "e4fc9229-fd07-4f3f-ccb1-ef55036cad80"
      },
      "source": [
        "#======================SVM\n",
        "svclf.predict(X_testcv1)"
      ],
      "execution_count": null,
      "outputs": [
        {
          "output_type": "execute_result",
          "data": {
            "text/plain": [
              "array([1, 1, 1])"
            ]
          },
          "metadata": {},
          "execution_count": 48
        }
      ]
    },
    {
      "cell_type": "code",
      "metadata": {
        "id": "TxGnXmAM2NAE"
      },
      "source": [
        "#====================For Ranking"
      ],
      "execution_count": null,
      "outputs": []
    },
    {
      "cell_type": "code",
      "metadata": {
        "id": "fJIRDx8QeBOB",
        "colab": {
          "base_uri": "https://localhost:8080/",
          "height": 157
        },
        "outputId": "6693564f-e42a-4882-91e8-bbf93b0c7877"
      },
      "source": [
        "rfprediction=clfNB.predict(X_testcv1)\n",
        "print(onlyfiles,rfprediction)\n",
        "\n",
        "outputdf=pd.DataFrame(list(zip(onlyfiles, rfprediction)),\n",
        "               columns =['Name', 'Class'])\n",
        "outputdf"
      ],
      "execution_count": null,
      "outputs": [
        {
          "output_type": "stream",
          "name": "stdout",
          "text": [
            "['/content/ResumeRanking/resumetest/Mayank Rajput.pdf', '/content/ResumeRanking/resumetest/SumitPawar.pdf', '/content/ResumeRanking/resumetest/RAJAT PALIWAL.pdf'] [1 1 1]\n"
          ]
        },
        {
          "output_type": "execute_result",
          "data": {
            "text/html": [
              "<div>\n",
              "<style scoped>\n",
              "    .dataframe tbody tr th:only-of-type {\n",
              "        vertical-align: middle;\n",
              "    }\n",
              "\n",
              "    .dataframe tbody tr th {\n",
              "        vertical-align: top;\n",
              "    }\n",
              "\n",
              "    .dataframe thead th {\n",
              "        text-align: right;\n",
              "    }\n",
              "</style>\n",
              "<table border=\"1\" class=\"dataframe\">\n",
              "  <thead>\n",
              "    <tr style=\"text-align: right;\">\n",
              "      <th></th>\n",
              "      <th>Name</th>\n",
              "      <th>Class</th>\n",
              "    </tr>\n",
              "  </thead>\n",
              "  <tbody>\n",
              "    <tr>\n",
              "      <th>0</th>\n",
              "      <td>/content/ResumeRanking/resumetest/Mayank Rajput.pdf</td>\n",
              "      <td>1</td>\n",
              "    </tr>\n",
              "    <tr>\n",
              "      <th>1</th>\n",
              "      <td>/content/ResumeRanking/resumetest/SumitPawar.pdf</td>\n",
              "      <td>1</td>\n",
              "    </tr>\n",
              "    <tr>\n",
              "      <th>2</th>\n",
              "      <td>/content/ResumeRanking/resumetest/RAJAT PALIWAL.pdf</td>\n",
              "      <td>1</td>\n",
              "    </tr>\n",
              "  </tbody>\n",
              "</table>\n",
              "</div>"
            ],
            "text/plain": [
              "                                                  Name  Class\n",
              "0  /content/ResumeRanking/resumetest/Mayank Rajput.pdf      1\n",
              "1     /content/ResumeRanking/resumetest/SumitPawar.pdf      1\n",
              "2  /content/ResumeRanking/resumetest/RAJAT PALIWAL.pdf      1"
            ]
          },
          "metadata": {},
          "execution_count": 50
        }
      ]
    },
    {
      "cell_type": "code",
      "metadata": {
        "colab": {
          "base_uri": "https://localhost:8080/",
          "height": 132
        },
        "id": "dBTVEqRsX6wC",
        "outputId": "85241c59-eb5c-492a-e250-29eabd41a912"
      },
      "source": [
        "rjoutputdf=pd.DataFrame()\n",
        "rjoutputdf=outputdf[outputdf['Class']==0]\n",
        "rjoutputdf['UserName']=rjoutputdf[\"Name\"].str.split(\"/\").str[4].str.split(\"_\").str[0]\n",
        "rjoutputdf.drop('Name', axis=1, inplace=True)\n",
        "rjoutputdf.drop('Class', axis=1, inplace=True)\n",
        "rjoutputdf['Class']='To Be Reviewed'\n",
        "rjoutputdf"
      ],
      "execution_count": null,
      "outputs": [
        {
          "output_type": "stream",
          "name": "stderr",
          "text": [
            "/usr/local/lib/python3.7/dist-packages/pandas/core/frame.py:4174: SettingWithCopyWarning: \n",
            "A value is trying to be set on a copy of a slice from a DataFrame\n",
            "\n",
            "See the caveats in the documentation: https://pandas.pydata.org/pandas-docs/stable/user_guide/indexing.html#returning-a-view-versus-a-copy\n",
            "  errors=errors,\n"
          ]
        },
        {
          "output_type": "execute_result",
          "data": {
            "text/html": [
              "<div>\n",
              "<style scoped>\n",
              "    .dataframe tbody tr th:only-of-type {\n",
              "        vertical-align: middle;\n",
              "    }\n",
              "\n",
              "    .dataframe tbody tr th {\n",
              "        vertical-align: top;\n",
              "    }\n",
              "\n",
              "    .dataframe thead th {\n",
              "        text-align: right;\n",
              "    }\n",
              "</style>\n",
              "<table border=\"1\" class=\"dataframe\">\n",
              "  <thead>\n",
              "    <tr style=\"text-align: right;\">\n",
              "      <th></th>\n",
              "      <th>UserName</th>\n",
              "      <th>Class</th>\n",
              "    </tr>\n",
              "  </thead>\n",
              "  <tbody>\n",
              "  </tbody>\n",
              "</table>\n",
              "</div>"
            ],
            "text/plain": [
              "Empty DataFrame\n",
              "Columns: [UserName, Class]\n",
              "Index: []"
            ]
          },
          "metadata": {},
          "execution_count": 51
        }
      ]
    },
    {
      "cell_type": "code",
      "metadata": {
        "id": "bW7LUSeaff5r",
        "colab": {
          "base_uri": "https://localhost:8080/"
        },
        "outputId": "2e6c199d-21c5-46a3-fec2-424df8f47784"
      },
      "source": [
        "outputdf['Class']=outputdf['Class'].apply(lambda x:'Selected' if x==1 else 'Rejected')\n",
        "summarydf=outputdf['Class'].groupby([outputdf['Class']]).count()\n",
        "\n",
        "outputdf = outputdf[outputdf['Class']=='Selected']\n",
        "outputrejecteddf = outputdf[outputdf['Class']=='Rejected']\n",
        "summarydf"
      ],
      "execution_count": null,
      "outputs": [
        {
          "output_type": "execute_result",
          "data": {
            "text/plain": [
              "Class\n",
              "Selected    3\n",
              "Name: Class, dtype: int64"
            ]
          },
          "metadata": {},
          "execution_count": 52
        }
      ]
    },
    {
      "cell_type": "code",
      "metadata": {
        "colab": {
          "base_uri": "https://localhost:8080/",
          "height": 141
        },
        "id": "no5ozA2qAMTN",
        "outputId": "6ab06d54-f7ee-4cfb-ec3c-170ec757522b"
      },
      "source": [
        "outputdf"
      ],
      "execution_count": null,
      "outputs": [
        {
          "output_type": "execute_result",
          "data": {
            "text/html": [
              "<div>\n",
              "<style scoped>\n",
              "    .dataframe tbody tr th:only-of-type {\n",
              "        vertical-align: middle;\n",
              "    }\n",
              "\n",
              "    .dataframe tbody tr th {\n",
              "        vertical-align: top;\n",
              "    }\n",
              "\n",
              "    .dataframe thead th {\n",
              "        text-align: right;\n",
              "    }\n",
              "</style>\n",
              "<table border=\"1\" class=\"dataframe\">\n",
              "  <thead>\n",
              "    <tr style=\"text-align: right;\">\n",
              "      <th></th>\n",
              "      <th>Name</th>\n",
              "      <th>Class</th>\n",
              "    </tr>\n",
              "  </thead>\n",
              "  <tbody>\n",
              "    <tr>\n",
              "      <th>0</th>\n",
              "      <td>/content/ResumeRanking/resumetest/Mayank Rajput.pdf</td>\n",
              "      <td>Selected</td>\n",
              "    </tr>\n",
              "    <tr>\n",
              "      <th>1</th>\n",
              "      <td>/content/ResumeRanking/resumetest/SumitPawar.pdf</td>\n",
              "      <td>Selected</td>\n",
              "    </tr>\n",
              "    <tr>\n",
              "      <th>2</th>\n",
              "      <td>/content/ResumeRanking/resumetest/RAJAT PALIWAL.pdf</td>\n",
              "      <td>Selected</td>\n",
              "    </tr>\n",
              "  </tbody>\n",
              "</table>\n",
              "</div>"
            ],
            "text/plain": [
              "                                                  Name     Class\n",
              "0  /content/ResumeRanking/resumetest/Mayank Rajput.pdf  Selected\n",
              "1     /content/ResumeRanking/resumetest/SumitPawar.pdf  Selected\n",
              "2  /content/ResumeRanking/resumetest/RAJAT PALIWAL.pdf  Selected"
            ]
          },
          "metadata": {},
          "execution_count": 53
        }
      ]
    },
    {
      "cell_type": "code",
      "metadata": {
        "id": "1wz7c_mkhrm0"
      },
      "source": [
        "#outputdf.to_csv('/content/ResumeRanking/MLSelected.csv')"
      ],
      "execution_count": null,
      "outputs": []
    },
    {
      "cell_type": "code",
      "metadata": {
        "id": "P9DU2VYCgch_"
      },
      "source": [
        "#=================================================RANKING NLP======================="
      ],
      "execution_count": null,
      "outputs": []
    },
    {
      "cell_type": "code",
      "metadata": {
        "id": "mW35hzV0gcwd"
      },
      "source": [
        "#=================================================="
      ],
      "execution_count": null,
      "outputs": []
    },
    {
      "cell_type": "code",
      "metadata": {
        "id": "YVEvRmgBdsJ5"
      },
      "source": [
        "def pdfextract(file):\n",
        "    '''\n",
        "    raw = parser.from_file(file)\n",
        "    raw = str(raw)\n",
        "\n",
        "    safe_text = raw.encode('utf-8', errors='ignore')\n",
        "\n",
        "    safe_text = str(safe_text).replace(\"\\n\", \"\").replace(\"\\\\\", \"\")\n",
        "    #print('--- safe text ---' )\n",
        "    #print( safe_text )\n",
        "    ''' \n",
        "    safe_text_arr=''\n",
        "    with pdfplumber.open(file) as pdf:\n",
        "      #print(pdf.pages[0])\n",
        "      #first_page = pdf.pages[0]\n",
        "      pageno=pdf.pages\n",
        "      print(pageno)\n",
        "      for i,pg in enumerate(pageno):\n",
        "          safe_text = pageno[i].extract_text()\n",
        "          #print(safe_text)\n",
        "          safe_text_arr += ' ' + safe_text \n",
        "\n",
        "    print(len(safe_text_arr),pageno)\n",
        "\n",
        "    return safe_text_arr\n",
        "  \n",
        "\n",
        "#functio n to read resume ends"
      ],
      "execution_count": null,
      "outputs": []
    },
    {
      "cell_type": "code",
      "metadata": {
        "id": "r_VVSBB4nAhX"
      },
      "source": [
        "#function that does phrase matching and builds a candidate profile\n",
        "def create_profile(file):\n",
        "    text = pdfextract(file) \n",
        "    text = str(text)\n",
        "    text = text.replace(\"\\\\n\", \"\")\n",
        "    text = text.lower()\n",
        "    #below is the csv where we have all the keywords, you can customize your own\n",
        "    keyword_dict = pd.read_csv('/content/ResumeRanking/JD_weightage.csv')\n",
        "    \n",
        "    stats_words = [nlp(text) for text in keyword_dict['Statistics'].dropna(axis = 0)]\n",
        "    NLP_words = [nlp(text) for text in keyword_dict['NLP'].dropna(axis = 0)]\n",
        "    ML_words = [nlp(text) for text in keyword_dict['Machine learning'].dropna(axis = 0)]\n",
        "    DL_words = [nlp(text) for text in keyword_dict['Deep Learning'].dropna(axis = 0)]\n",
        "    python_words = [nlp(text) for text in keyword_dict['Python language'].dropna(axis = 0)]\n",
        "    Data_Engineering_words = [nlp(text) for text in keyword_dict['Data Engineering'].dropna(axis = 0)]\n",
        "    java_words = [nlp(text) for text in keyword_dict['Java'].dropna(axis = 0)]\n",
        "    print(java_words)\n",
        "    matcher = PhraseMatcher(nlp.vocab)\n",
        "    matcher.add('Stats', None, *stats_words)\n",
        "    matcher.add('NLP', None, *NLP_words)\n",
        "    matcher.add('ML', None, *ML_words)\n",
        "    matcher.add('DeepLearning', None, *DL_words)\n",
        "    matcher.add('Python', None, *python_words)\n",
        "    matcher.add('DataEngineering', None, *Data_Engineering_words)\n",
        "    matcher.add('Java', None, *java_words)\n",
        "    doc = nlp(text)\n",
        "    \n",
        "    d = []  \n",
        "    matches = matcher(doc)\n",
        "  \n",
        "    for match_id, start, end in matches:\n",
        "        rule_id = nlp.vocab.strings[match_id]  # get the unicode ID, i.e. 'COLOR'\n",
        "        span = doc[start : end]  # get the matched slice of the doc\n",
        "        d.append((rule_id, span.text))      \n",
        "    keywords = \"\\n\".join(f'{i[0]} {i[1]} ({j})' for i,j in Counter(d).items())\n",
        "    \n",
        "    ## convertimg string of keywords to dataframe\n",
        "    df = pd.read_csv(StringIO(keywords),names = ['Keywords_List'])\n",
        "    df1 = pd.DataFrame(df.Keywords_List.str.split(' ',1).tolist(),columns = ['Subject','Keyword'])\n",
        "    df2 = pd.DataFrame(df1.Keyword.str.split('(',1).tolist(),columns = ['Keyword', 'Count'])\n",
        "    df3 = pd.concat([df1['Subject'],df2['Keyword'], df2['Count']], axis =1) \n",
        "    df3['Count'] = df3['Count'].apply(lambda x: x.rstrip(\")\"))\n",
        "    \n",
        "    base = os.path.basename(file)\n",
        "    filename = os.path.splitext(base)[0]\n",
        "       \n",
        "    name = filename.split('_')\n",
        "    name2 = name[0]\n",
        "    name2 = name2.lower()\n",
        "    ## converting str to dataframe\n",
        "    name3 = pd.read_csv(StringIO(name2),names = ['Candidate Name'])\n",
        "    \n",
        "    dataf = pd.concat([name3['Candidate Name'], df3['Subject'], df3['Keyword'], df3['Count']], axis = 1)\n",
        "    dataf['Candidate Name'].fillna(dataf['Candidate Name'].iloc[0], inplace = True)\n",
        "\n",
        "    return(dataf)\n",
        "        \n",
        "#function ends"
      ],
      "execution_count": null,
      "outputs": []
    },
    {
      "cell_type": "code",
      "metadata": {
        "id": "FQkWkySmnMEZ",
        "colab": {
          "base_uri": "https://localhost:8080/"
        },
        "outputId": "b4e3e0dd-41bc-4b07-f9ae-4f8022497a00"
      },
      "source": [
        "#code to execute/call the above functions\n",
        "\n",
        "final_database=pd.DataFrame()\n",
        "onlyfiles=list(outputdf['Name'])\n",
        "for i in range(0, len(onlyfiles)):\n",
        "    file = onlyfiles[i]\n",
        "    if 'pdf' in file:\n",
        "      print('fffffffffffffffffffffffffffffffffffffffffffff',file)\n",
        "      dat = create_profile(file)\n",
        "      final_database = final_database.append(dat)\n",
        "      \n",
        "print(final_database)"
      ],
      "execution_count": null,
      "outputs": [
        {
          "output_type": "stream",
          "name": "stdout",
          "text": [
            "fffffffffffffffffffffffffffffffffffffffffffff /content/ResumeRanking/resumetest/Mayank Rajput.pdf\n",
            "[<Page:1>]\n",
            "2856 [<Page:1>]\n",
            "[java, j2EE, spring, spring boot, hibernate, jSP, struts, sOA, rESTful aPI, oracle, mySql, docker, kubernetes, cI/CD, kubernetes, bit bucket, jenkins, HTML, javaScript, angular JS, react, agile]\n",
            "fffffffffffffffffffffffffffffffffffffffffffff /content/ResumeRanking/resumetest/SumitPawar.pdf\n",
            "[<Page:1>, <Page:2>, <Page:3>, <Page:4>, <Page:5>, <Page:6>, <Page:7>]\n",
            "12764 [<Page:1>, <Page:2>, <Page:3>, <Page:4>, <Page:5>, <Page:6>, <Page:7>]\n",
            "[java, j2EE, spring, spring boot, hibernate, jSP, struts, sOA, rESTful aPI, oracle, mySql, docker, kubernetes, cI/CD, kubernetes, bit bucket, jenkins, HTML, javaScript, angular JS, react, agile]\n",
            "fffffffffffffffffffffffffffffffffffffffffffff /content/ResumeRanking/resumetest/RAJAT PALIWAL.pdf\n",
            "[<Page:1>, <Page:2>]\n",
            "4367 [<Page:1>, <Page:2>]\n",
            "[java, j2EE, spring, spring boot, hibernate, jSP, struts, sOA, rESTful aPI, oracle, mySql, docker, kubernetes, cI/CD, kubernetes, bit bucket, jenkins, HTML, javaScript, angular JS, react, agile]\n",
            "   Candidate Name          Subject      Keyword Count\n",
            "0   mayank rajput           Python      python      5\n",
            "1   mayank rajput             Java       agile      1\n",
            "2   mayank rajput  DataEngineering        hive      2\n",
            "3   mayank rajput           Python        hive      2\n",
            "4   mayank rajput  DataEngineering         sql      2\n",
            "5   mayank rajput           Python         sql      2\n",
            "6   mayank rajput           Python      pandas      1\n",
            "7   mayank rajput           Python       numpy      1\n",
            "8   mayank rajput           Python  matplotlib      1\n",
            "9   mayank rajput             Java        java      1\n",
            "0      sumitpawar  DataEngineering      hadoop     15\n",
            "1      sumitpawar  DataEngineering        hive     21\n",
            "2      sumitpawar           Python        hive     21\n",
            "3      sumitpawar           Python      python      3\n",
            "4      sumitpawar  DataEngineering         sql      1\n",
            "5      sumitpawar           Python         sql      1\n",
            "6      sumitpawar             Java      oracle      4\n",
            "7      sumitpawar  DataEngineering         aws      1\n",
            "8      sumitpawar             Java        java      1\n",
            "9      sumitpawar  DataEngineering    teradata      1\n",
            "10     sumitpawar           Python    teradata      1\n",
            "0   rajat paliwal  DataEngineering      hadoop      5\n",
            "1   rajat paliwal  DataEngineering         sql      2\n",
            "2   rajat paliwal           Python         sql      2\n",
            "3   rajat paliwal           Python      python      4\n",
            "4   rajat paliwal  DataEngineering          s3      2\n",
            "5   rajat paliwal           Python          s3      2\n",
            "6   rajat paliwal  DataEngineering         ec2      1\n",
            "7   rajat paliwal           Python         ec2      1\n",
            "8   rajat paliwal  DataEngineering         aws      1\n"
          ]
        }
      ]
    },
    {
      "cell_type": "code",
      "metadata": {
        "id": "6_w7inavnctE",
        "colab": {
          "base_uri": "https://localhost:8080/",
          "height": 171
        },
        "outputId": "8e8cd88f-2a4d-42f8-98b1-8d7bb8013a12"
      },
      "source": [
        "#code to count words under each category and visulaize it through Matplotlib\n",
        "\n",
        "final_database2 = final_database['Keyword'].groupby([final_database['Candidate Name'],final_database['Subject']]).count().unstack()\n",
        "\n",
        "final_database2.reset_index(inplace = True)\n",
        "final_database2.fillna(0,inplace=True)\n",
        "new_data = final_database2.iloc[:,1:]\n",
        "new_data.index = final_database2['Candidate Name']\n",
        "new_data"
      ],
      "execution_count": null,
      "outputs": [
        {
          "output_type": "execute_result",
          "data": {
            "text/html": [
              "<div>\n",
              "<style scoped>\n",
              "    .dataframe tbody tr th:only-of-type {\n",
              "        vertical-align: middle;\n",
              "    }\n",
              "\n",
              "    .dataframe tbody tr th {\n",
              "        vertical-align: top;\n",
              "    }\n",
              "\n",
              "    .dataframe thead th {\n",
              "        text-align: right;\n",
              "    }\n",
              "</style>\n",
              "<table border=\"1\" class=\"dataframe\">\n",
              "  <thead>\n",
              "    <tr style=\"text-align: right;\">\n",
              "      <th>Subject</th>\n",
              "      <th>DataEngineering</th>\n",
              "      <th>Java</th>\n",
              "      <th>Python</th>\n",
              "    </tr>\n",
              "    <tr>\n",
              "      <th>Candidate Name</th>\n",
              "      <th></th>\n",
              "      <th></th>\n",
              "      <th></th>\n",
              "    </tr>\n",
              "  </thead>\n",
              "  <tbody>\n",
              "    <tr>\n",
              "      <th>mayank rajput</th>\n",
              "      <td>2.0</td>\n",
              "      <td>2.0</td>\n",
              "      <td>6.0</td>\n",
              "    </tr>\n",
              "    <tr>\n",
              "      <th>rajat paliwal</th>\n",
              "      <td>5.0</td>\n",
              "      <td>0.0</td>\n",
              "      <td>4.0</td>\n",
              "    </tr>\n",
              "    <tr>\n",
              "      <th>sumitpawar</th>\n",
              "      <td>5.0</td>\n",
              "      <td>2.0</td>\n",
              "      <td>4.0</td>\n",
              "    </tr>\n",
              "  </tbody>\n",
              "</table>\n",
              "</div>"
            ],
            "text/plain": [
              "Subject         DataEngineering  Java  Python\n",
              "Candidate Name                               \n",
              "mayank rajput               2.0   2.0     6.0\n",
              "rajat paliwal               5.0   0.0     4.0\n",
              "sumitpawar                  5.0   2.0     4.0"
            ]
          },
          "metadata": {},
          "execution_count": 60
        }
      ]
    },
    {
      "cell_type": "code",
      "metadata": {
        "id": "cTx3_585nt37",
        "colab": {
          "base_uri": "https://localhost:8080/",
          "height": 437
        },
        "outputId": "a36bbea5-9546-455b-94a0-adf0c3fa5dd3"
      },
      "source": [
        "import matplotlib.pyplot as plt\n",
        "\n",
        "plt.rcParams.update({'font.size': 10})\n",
        "ax = new_data.plot.barh(title=\"Resume keywords by category\", legend=False, figsize=(25,7), stacked=True)\n",
        "labels = []\n",
        "for j in new_data.columns:\n",
        "    for i in new_data.index:\n",
        "        label = str(j)+\": \" + str(new_data.loc[i][j])\n",
        "        labels.append(label)\n",
        "patches = ax.patches\n",
        "for label, rect in zip(labels, patches):\n",
        "    width = rect.get_width()\n",
        "    if width > 0:\n",
        "        x = rect.get_x()\n",
        "        y = rect.get_y()\n",
        "        height = rect.get_height()\n",
        "        ax.text(x + width/2., y + height/2., label, ha='center', va='center')\n",
        "#plt.savefig('python_pretty_plot.png')\n",
        "plt.show()\n",
        "#pic.savefig('python_pretty_plot1.png')\n"
      ],
      "execution_count": null,
      "outputs": [
        {
          "output_type": "display_data",
          "data": {
            "image/png": "[encoded data removed]",
            "text/plain": [
              "<Figure size 1800x504 with 1 Axes>"
            ]
          },
          "metadata": {
            "needs_background": "light"
          }
        }
      ]
    },
    {
      "cell_type": "code",
      "metadata": {
        "id": "XfTzc4I9Q7J3"
      },
      "source": [
        "#!pip install excel2img"
      ],
      "execution_count": null,
      "outputs": []
    },
    {
      "cell_type": "code",
      "metadata": {
        "id": "TY0MsIJTnymD"
      },
      "source": [
        "#Generate df with weightage and technology\n",
        "\n",
        "\n",
        "df = pd.read_csv('/content/ResumeRanking/JD_weightage.csv')\n",
        "\n",
        "#ndf=df.iloc[:, 0:2].append(df.iloc[:, 2:4], ignore_index = True)\n",
        "col1=list(df.iloc[:,0])+ list(df.iloc[:,2]) + list(df.iloc[:,4])+ list(df.iloc[:,6])+list(df.iloc[:,8])+ list(df.iloc[:,10])\n",
        "col2=list(df.iloc[:,1])+ list(df.iloc[:,3]) + list(df.iloc[:,5])+ list(df.iloc[:,7])+list(df.iloc[:,9])+ list(df.iloc[:,11])\n",
        "tabledf=pd.DataFrame(list(zip(col1, col2)),columns =['Keyword', 'WeightageScore'])\n",
        "tabledf.dropna(axis=0, how='all',inplace=True)\n",
        "#tabledf.head(5)\n",
        "#df.head(20)"
      ],
      "execution_count": null,
      "outputs": []
    },
    {
      "cell_type": "code",
      "metadata": {
        "id": "nj9j8Ysan5AY"
      },
      "source": [
        "final_database.Keyword = final_database.Keyword.str.rstrip()"
      ],
      "execution_count": null,
      "outputs": []
    },
    {
      "cell_type": "code",
      "metadata": {
        "id": "5DhAcqZan-6w",
        "colab": {
          "base_uri": "https://localhost:8080/",
          "height": 631
        },
        "outputId": "13e488f4-8fe4-4d4d-909f-0707da32eae7"
      },
      "source": [
        "prepdf=final_database.merge( tabledf, on='Keyword', how='left')\n",
        "prepdf.head(19)"
      ],
      "execution_count": null,
      "outputs": [
        {
          "output_type": "execute_result",
          "data": {
            "text/html": [
              "<div>\n",
              "<style scoped>\n",
              "    .dataframe tbody tr th:only-of-type {\n",
              "        vertical-align: middle;\n",
              "    }\n",
              "\n",
              "    .dataframe tbody tr th {\n",
              "        vertical-align: top;\n",
              "    }\n",
              "\n",
              "    .dataframe thead th {\n",
              "        text-align: right;\n",
              "    }\n",
              "</style>\n",
              "<table border=\"1\" class=\"dataframe\">\n",
              "  <thead>\n",
              "    <tr style=\"text-align: right;\">\n",
              "      <th></th>\n",
              "      <th>Candidate Name</th>\n",
              "      <th>Subject</th>\n",
              "      <th>Keyword</th>\n",
              "      <th>Count</th>\n",
              "      <th>WeightageScore</th>\n",
              "    </tr>\n",
              "  </thead>\n",
              "  <tbody>\n",
              "    <tr>\n",
              "      <th>0</th>\n",
              "      <td>mayank rajput</td>\n",
              "      <td>Python</td>\n",
              "      <td>python</td>\n",
              "      <td>5</td>\n",
              "      <td>2.0</td>\n",
              "    </tr>\n",
              "    <tr>\n",
              "      <th>1</th>\n",
              "      <td>mayank rajput</td>\n",
              "      <td>Java</td>\n",
              "      <td>agile</td>\n",
              "      <td>1</td>\n",
              "      <td>NaN</td>\n",
              "    </tr>\n",
              "    <tr>\n",
              "      <th>2</th>\n",
              "      <td>mayank rajput</td>\n",
              "      <td>DataEngineering</td>\n",
              "      <td>hive</td>\n",
              "      <td>2</td>\n",
              "      <td>2.0</td>\n",
              "    </tr>\n",
              "    <tr>\n",
              "      <th>3</th>\n",
              "      <td>mayank rajput</td>\n",
              "      <td>DataEngineering</td>\n",
              "      <td>hive</td>\n",
              "      <td>2</td>\n",
              "      <td>5.0</td>\n",
              "    </tr>\n",
              "    <tr>\n",
              "      <th>4</th>\n",
              "      <td>mayank rajput</td>\n",
              "      <td>Python</td>\n",
              "      <td>hive</td>\n",
              "      <td>2</td>\n",
              "      <td>2.0</td>\n",
              "    </tr>\n",
              "    <tr>\n",
              "      <th>5</th>\n",
              "      <td>mayank rajput</td>\n",
              "      <td>Python</td>\n",
              "      <td>hive</td>\n",
              "      <td>2</td>\n",
              "      <td>5.0</td>\n",
              "    </tr>\n",
              "    <tr>\n",
              "      <th>6</th>\n",
              "      <td>mayank rajput</td>\n",
              "      <td>DataEngineering</td>\n",
              "      <td>sql</td>\n",
              "      <td>2</td>\n",
              "      <td>5.0</td>\n",
              "    </tr>\n",
              "    <tr>\n",
              "      <th>7</th>\n",
              "      <td>mayank rajput</td>\n",
              "      <td>DataEngineering</td>\n",
              "      <td>sql</td>\n",
              "      <td>2</td>\n",
              "      <td>5.0</td>\n",
              "    </tr>\n",
              "    <tr>\n",
              "      <th>8</th>\n",
              "      <td>mayank rajput</td>\n",
              "      <td>Python</td>\n",
              "      <td>sql</td>\n",
              "      <td>2</td>\n",
              "      <td>5.0</td>\n",
              "    </tr>\n",
              "    <tr>\n",
              "      <th>9</th>\n",
              "      <td>mayank rajput</td>\n",
              "      <td>Python</td>\n",
              "      <td>sql</td>\n",
              "      <td>2</td>\n",
              "      <td>5.0</td>\n",
              "    </tr>\n",
              "    <tr>\n",
              "      <th>10</th>\n",
              "      <td>mayank rajput</td>\n",
              "      <td>Python</td>\n",
              "      <td>pandas</td>\n",
              "      <td>1</td>\n",
              "      <td>5.0</td>\n",
              "    </tr>\n",
              "    <tr>\n",
              "      <th>11</th>\n",
              "      <td>mayank rajput</td>\n",
              "      <td>Python</td>\n",
              "      <td>numpy</td>\n",
              "      <td>1</td>\n",
              "      <td>3.0</td>\n",
              "    </tr>\n",
              "    <tr>\n",
              "      <th>12</th>\n",
              "      <td>mayank rajput</td>\n",
              "      <td>Python</td>\n",
              "      <td>matplotlib</td>\n",
              "      <td>1</td>\n",
              "      <td>1.0</td>\n",
              "    </tr>\n",
              "    <tr>\n",
              "      <th>13</th>\n",
              "      <td>mayank rajput</td>\n",
              "      <td>Java</td>\n",
              "      <td>java</td>\n",
              "      <td>1</td>\n",
              "      <td>NaN</td>\n",
              "    </tr>\n",
              "    <tr>\n",
              "      <th>14</th>\n",
              "      <td>sumitpawar</td>\n",
              "      <td>DataEngineering</td>\n",
              "      <td>hadoop</td>\n",
              "      <td>15</td>\n",
              "      <td>5.0</td>\n",
              "    </tr>\n",
              "    <tr>\n",
              "      <th>15</th>\n",
              "      <td>sumitpawar</td>\n",
              "      <td>DataEngineering</td>\n",
              "      <td>hive</td>\n",
              "      <td>21</td>\n",
              "      <td>2.0</td>\n",
              "    </tr>\n",
              "    <tr>\n",
              "      <th>16</th>\n",
              "      <td>sumitpawar</td>\n",
              "      <td>DataEngineering</td>\n",
              "      <td>hive</td>\n",
              "      <td>21</td>\n",
              "      <td>5.0</td>\n",
              "    </tr>\n",
              "    <tr>\n",
              "      <th>17</th>\n",
              "      <td>sumitpawar</td>\n",
              "      <td>Python</td>\n",
              "      <td>hive</td>\n",
              "      <td>21</td>\n",
              "      <td>2.0</td>\n",
              "    </tr>\n",
              "    <tr>\n",
              "      <th>18</th>\n",
              "      <td>sumitpawar</td>\n",
              "      <td>Python</td>\n",
              "      <td>hive</td>\n",
              "      <td>21</td>\n",
              "      <td>5.0</td>\n",
              "    </tr>\n",
              "  </tbody>\n",
              "</table>\n",
              "</div>"
            ],
            "text/plain": [
              "   Candidate Name          Subject     Keyword Count  WeightageScore\n",
              "0   mayank rajput           Python      python     5             2.0\n",
              "1   mayank rajput             Java       agile     1             NaN\n",
              "2   mayank rajput  DataEngineering        hive     2             2.0\n",
              "3   mayank rajput  DataEngineering        hive     2             5.0\n",
              "4   mayank rajput           Python        hive     2             2.0\n",
              "5   mayank rajput           Python        hive     2             5.0\n",
              "6   mayank rajput  DataEngineering         sql     2             5.0\n",
              "7   mayank rajput  DataEngineering         sql     2             5.0\n",
              "8   mayank rajput           Python         sql     2             5.0\n",
              "9   mayank rajput           Python         sql     2             5.0\n",
              "10  mayank rajput           Python      pandas     1             5.0\n",
              "11  mayank rajput           Python       numpy     1             3.0\n",
              "12  mayank rajput           Python  matplotlib     1             1.0\n",
              "13  mayank rajput             Java        java     1             NaN\n",
              "14     sumitpawar  DataEngineering      hadoop    15             5.0\n",
              "15     sumitpawar  DataEngineering        hive    21             2.0\n",
              "16     sumitpawar  DataEngineering        hive    21             5.0\n",
              "17     sumitpawar           Python        hive    21             2.0\n",
              "18     sumitpawar           Python        hive    21             5.0"
            ]
          },
          "metadata": {},
          "execution_count": 65
        }
      ]
    },
    {
      "cell_type": "code",
      "metadata": {
        "id": "c2LFMB0yVp3C",
        "colab": {
          "base_uri": "https://localhost:8080/",
          "height": 324
        },
        "outputId": "f4ff6e0b-0823-4cb7-c539-1f25477fd8ae"
      },
      "source": [
        "#Preparing graph for all subjects\n",
        "prepdf_all=prepdf.groupby(by=['Candidate Name','Subject'],sort=False).sum()\n",
        "prepdf_all"
      ],
      "execution_count": null,
      "outputs": [
        {
          "output_type": "execute_result",
          "data": {
            "text/html": [
              "<div>\n",
              "<style scoped>\n",
              "    .dataframe tbody tr th:only-of-type {\n",
              "        vertical-align: middle;\n",
              "    }\n",
              "\n",
              "    .dataframe tbody tr th {\n",
              "        vertical-align: top;\n",
              "    }\n",
              "\n",
              "    .dataframe thead th {\n",
              "        text-align: right;\n",
              "    }\n",
              "</style>\n",
              "<table border=\"1\" class=\"dataframe\">\n",
              "  <thead>\n",
              "    <tr style=\"text-align: right;\">\n",
              "      <th></th>\n",
              "      <th></th>\n",
              "      <th>WeightageScore</th>\n",
              "    </tr>\n",
              "    <tr>\n",
              "      <th>Candidate Name</th>\n",
              "      <th>Subject</th>\n",
              "      <th></th>\n",
              "    </tr>\n",
              "  </thead>\n",
              "  <tbody>\n",
              "    <tr>\n",
              "      <th rowspan=\"3\" valign=\"top\">mayank rajput</th>\n",
              "      <th>Python</th>\n",
              "      <td>28.0</td>\n",
              "    </tr>\n",
              "    <tr>\n",
              "      <th>Java</th>\n",
              "      <td>0.0</td>\n",
              "    </tr>\n",
              "    <tr>\n",
              "      <th>DataEngineering</th>\n",
              "      <td>17.0</td>\n",
              "    </tr>\n",
              "    <tr>\n",
              "      <th rowspan=\"3\" valign=\"top\">sumitpawar</th>\n",
              "      <th>DataEngineering</th>\n",
              "      <td>39.0</td>\n",
              "    </tr>\n",
              "    <tr>\n",
              "      <th>Python</th>\n",
              "      <td>26.0</td>\n",
              "    </tr>\n",
              "    <tr>\n",
              "      <th>Java</th>\n",
              "      <td>0.0</td>\n",
              "    </tr>\n",
              "    <tr>\n",
              "      <th rowspan=\"2\" valign=\"top\">rajat paliwal</th>\n",
              "      <th>DataEngineering</th>\n",
              "      <td>57.0</td>\n",
              "    </tr>\n",
              "    <tr>\n",
              "      <th>Python</th>\n",
              "      <td>44.0</td>\n",
              "    </tr>\n",
              "  </tbody>\n",
              "</table>\n",
              "</div>"
            ],
            "text/plain": [
              "                                WeightageScore\n",
              "Candidate Name Subject                        \n",
              "mayank rajput  Python                     28.0\n",
              "               Java                        0.0\n",
              "               DataEngineering            17.0\n",
              "sumitpawar     DataEngineering            39.0\n",
              "               Python                     26.0\n",
              "               Java                        0.0\n",
              "rajat paliwal  DataEngineering            57.0\n",
              "               Python                     44.0"
            ]
          },
          "metadata": {},
          "execution_count": 66
        }
      ]
    },
    {
      "cell_type": "code",
      "metadata": {
        "id": "aD4eXXZkX8F6"
      },
      "source": [
        "#Saving fig for all subjects\n",
        "#prepdf_all.unstack().plot(kind='barh',figsize=(15, 15),legend=True).get_figure().savefig('output.png')"
      ],
      "execution_count": null,
      "outputs": []
    },
    {
      "cell_type": "code",
      "metadata": {
        "id": "E_dlXECA8q3i"
      },
      "source": [
        "prepdf = prepdf[~prepdf['Count'].isnull()]\n",
        "# final conversion now worked\n",
        "prepdf[['Count']] = prepdf[['Count']].astype(int)\n"
      ],
      "execution_count": null,
      "outputs": []
    },
    {
      "cell_type": "code",
      "metadata": {
        "id": "QBCNOY0xoDKa",
        "colab": {
          "base_uri": "https://localhost:8080/",
          "height": 1000
        },
        "outputId": "97109bda-46c8-466a-e2c5-c33763d2a70d"
      },
      "source": [
        "#prepdf['Count']=prepdf['Count'].astype(int)\n",
        "prepdf"
      ],
      "execution_count": null,
      "outputs": [
        {
          "output_type": "execute_result",
          "data": {
            "text/html": [
              "<div>\n",
              "<style scoped>\n",
              "    .dataframe tbody tr th:only-of-type {\n",
              "        vertical-align: middle;\n",
              "    }\n",
              "\n",
              "    .dataframe tbody tr th {\n",
              "        vertical-align: top;\n",
              "    }\n",
              "\n",
              "    .dataframe thead th {\n",
              "        text-align: right;\n",
              "    }\n",
              "</style>\n",
              "<table border=\"1\" class=\"dataframe\">\n",
              "  <thead>\n",
              "    <tr style=\"text-align: right;\">\n",
              "      <th></th>\n",
              "      <th>Candidate Name</th>\n",
              "      <th>Subject</th>\n",
              "      <th>Keyword</th>\n",
              "      <th>Count</th>\n",
              "      <th>WeightageScore</th>\n",
              "    </tr>\n",
              "  </thead>\n",
              "  <tbody>\n",
              "    <tr>\n",
              "      <th>0</th>\n",
              "      <td>mayank rajput</td>\n",
              "      <td>Python</td>\n",
              "      <td>python</td>\n",
              "      <td>5</td>\n",
              "      <td>2.0</td>\n",
              "    </tr>\n",
              "    <tr>\n",
              "      <th>1</th>\n",
              "      <td>mayank rajput</td>\n",
              "      <td>Java</td>\n",
              "      <td>agile</td>\n",
              "      <td>1</td>\n",
              "      <td>NaN</td>\n",
              "    </tr>\n",
              "    <tr>\n",
              "      <th>2</th>\n",
              "      <td>mayank rajput</td>\n",
              "      <td>DataEngineering</td>\n",
              "      <td>hive</td>\n",
              "      <td>2</td>\n",
              "      <td>2.0</td>\n",
              "    </tr>\n",
              "    <tr>\n",
              "      <th>3</th>\n",
              "      <td>mayank rajput</td>\n",
              "      <td>DataEngineering</td>\n",
              "      <td>hive</td>\n",
              "      <td>2</td>\n",
              "      <td>5.0</td>\n",
              "    </tr>\n",
              "    <tr>\n",
              "      <th>4</th>\n",
              "      <td>mayank rajput</td>\n",
              "      <td>Python</td>\n",
              "      <td>hive</td>\n",
              "      <td>2</td>\n",
              "      <td>2.0</td>\n",
              "    </tr>\n",
              "    <tr>\n",
              "      <th>5</th>\n",
              "      <td>mayank rajput</td>\n",
              "      <td>Python</td>\n",
              "      <td>hive</td>\n",
              "      <td>2</td>\n",
              "      <td>5.0</td>\n",
              "    </tr>\n",
              "    <tr>\n",
              "      <th>6</th>\n",
              "      <td>mayank rajput</td>\n",
              "      <td>DataEngineering</td>\n",
              "      <td>sql</td>\n",
              "      <td>2</td>\n",
              "      <td>5.0</td>\n",
              "    </tr>\n",
              "    <tr>\n",
              "      <th>7</th>\n",
              "      <td>mayank rajput</td>\n",
              "      <td>DataEngineering</td>\n",
              "      <td>sql</td>\n",
              "      <td>2</td>\n",
              "      <td>5.0</td>\n",
              "    </tr>\n",
              "    <tr>\n",
              "      <th>8</th>\n",
              "      <td>mayank rajput</td>\n",
              "      <td>Python</td>\n",
              "      <td>sql</td>\n",
              "      <td>2</td>\n",
              "      <td>5.0</td>\n",
              "    </tr>\n",
              "    <tr>\n",
              "      <th>9</th>\n",
              "      <td>mayank rajput</td>\n",
              "      <td>Python</td>\n",
              "      <td>sql</td>\n",
              "      <td>2</td>\n",
              "      <td>5.0</td>\n",
              "    </tr>\n",
              "    <tr>\n",
              "      <th>10</th>\n",
              "      <td>mayank rajput</td>\n",
              "      <td>Python</td>\n",
              "      <td>pandas</td>\n",
              "      <td>1</td>\n",
              "      <td>5.0</td>\n",
              "    </tr>\n",
              "    <tr>\n",
              "      <th>11</th>\n",
              "      <td>mayank rajput</td>\n",
              "      <td>Python</td>\n",
              "      <td>numpy</td>\n",
              "      <td>1</td>\n",
              "      <td>3.0</td>\n",
              "    </tr>\n",
              "    <tr>\n",
              "      <th>12</th>\n",
              "      <td>mayank rajput</td>\n",
              "      <td>Python</td>\n",
              "      <td>matplotlib</td>\n",
              "      <td>1</td>\n",
              "      <td>1.0</td>\n",
              "    </tr>\n",
              "    <tr>\n",
              "      <th>13</th>\n",
              "      <td>mayank rajput</td>\n",
              "      <td>Java</td>\n",
              "      <td>java</td>\n",
              "      <td>1</td>\n",
              "      <td>NaN</td>\n",
              "    </tr>\n",
              "    <tr>\n",
              "      <th>14</th>\n",
              "      <td>sumitpawar</td>\n",
              "      <td>DataEngineering</td>\n",
              "      <td>hadoop</td>\n",
              "      <td>15</td>\n",
              "      <td>5.0</td>\n",
              "    </tr>\n",
              "    <tr>\n",
              "      <th>15</th>\n",
              "      <td>sumitpawar</td>\n",
              "      <td>DataEngineering</td>\n",
              "      <td>hive</td>\n",
              "      <td>21</td>\n",
              "      <td>2.0</td>\n",
              "    </tr>\n",
              "    <tr>\n",
              "      <th>16</th>\n",
              "      <td>sumitpawar</td>\n",
              "      <td>DataEngineering</td>\n",
              "      <td>hive</td>\n",
              "      <td>21</td>\n",
              "      <td>5.0</td>\n",
              "    </tr>\n",
              "    <tr>\n",
              "      <th>17</th>\n",
              "      <td>sumitpawar</td>\n",
              "      <td>Python</td>\n",
              "      <td>hive</td>\n",
              "      <td>21</td>\n",
              "      <td>2.0</td>\n",
              "    </tr>\n",
              "    <tr>\n",
              "      <th>18</th>\n",
              "      <td>sumitpawar</td>\n",
              "      <td>Python</td>\n",
              "      <td>hive</td>\n",
              "      <td>21</td>\n",
              "      <td>5.0</td>\n",
              "    </tr>\n",
              "    <tr>\n",
              "      <th>19</th>\n",
              "      <td>sumitpawar</td>\n",
              "      <td>Python</td>\n",
              "      <td>python</td>\n",
              "      <td>3</td>\n",
              "      <td>2.0</td>\n",
              "    </tr>\n",
              "    <tr>\n",
              "      <th>20</th>\n",
              "      <td>sumitpawar</td>\n",
              "      <td>DataEngineering</td>\n",
              "      <td>sql</td>\n",
              "      <td>1</td>\n",
              "      <td>5.0</td>\n",
              "    </tr>\n",
              "    <tr>\n",
              "      <th>21</th>\n",
              "      <td>sumitpawar</td>\n",
              "      <td>DataEngineering</td>\n",
              "      <td>sql</td>\n",
              "      <td>1</td>\n",
              "      <td>5.0</td>\n",
              "    </tr>\n",
              "    <tr>\n",
              "      <th>22</th>\n",
              "      <td>sumitpawar</td>\n",
              "      <td>Python</td>\n",
              "      <td>sql</td>\n",
              "      <td>1</td>\n",
              "      <td>5.0</td>\n",
              "    </tr>\n",
              "    <tr>\n",
              "      <th>23</th>\n",
              "      <td>sumitpawar</td>\n",
              "      <td>Python</td>\n",
              "      <td>sql</td>\n",
              "      <td>1</td>\n",
              "      <td>5.0</td>\n",
              "    </tr>\n",
              "    <tr>\n",
              "      <th>24</th>\n",
              "      <td>sumitpawar</td>\n",
              "      <td>Java</td>\n",
              "      <td>oracle</td>\n",
              "      <td>4</td>\n",
              "      <td>NaN</td>\n",
              "    </tr>\n",
              "    <tr>\n",
              "      <th>25</th>\n",
              "      <td>sumitpawar</td>\n",
              "      <td>DataEngineering</td>\n",
              "      <td>aws</td>\n",
              "      <td>1</td>\n",
              "      <td>10.0</td>\n",
              "    </tr>\n",
              "    <tr>\n",
              "      <th>26</th>\n",
              "      <td>sumitpawar</td>\n",
              "      <td>Java</td>\n",
              "      <td>java</td>\n",
              "      <td>1</td>\n",
              "      <td>NaN</td>\n",
              "    </tr>\n",
              "    <tr>\n",
              "      <th>27</th>\n",
              "      <td>sumitpawar</td>\n",
              "      <td>DataEngineering</td>\n",
              "      <td>teradata</td>\n",
              "      <td>1</td>\n",
              "      <td>2.0</td>\n",
              "    </tr>\n",
              "    <tr>\n",
              "      <th>28</th>\n",
              "      <td>sumitpawar</td>\n",
              "      <td>DataEngineering</td>\n",
              "      <td>teradata</td>\n",
              "      <td>1</td>\n",
              "      <td>5.0</td>\n",
              "    </tr>\n",
              "    <tr>\n",
              "      <th>29</th>\n",
              "      <td>sumitpawar</td>\n",
              "      <td>Python</td>\n",
              "      <td>teradata</td>\n",
              "      <td>1</td>\n",
              "      <td>2.0</td>\n",
              "    </tr>\n",
              "    <tr>\n",
              "      <th>30</th>\n",
              "      <td>sumitpawar</td>\n",
              "      <td>Python</td>\n",
              "      <td>teradata</td>\n",
              "      <td>1</td>\n",
              "      <td>5.0</td>\n",
              "    </tr>\n",
              "    <tr>\n",
              "      <th>31</th>\n",
              "      <td>rajat paliwal</td>\n",
              "      <td>DataEngineering</td>\n",
              "      <td>hadoop</td>\n",
              "      <td>5</td>\n",
              "      <td>5.0</td>\n",
              "    </tr>\n",
              "    <tr>\n",
              "      <th>32</th>\n",
              "      <td>rajat paliwal</td>\n",
              "      <td>DataEngineering</td>\n",
              "      <td>sql</td>\n",
              "      <td>2</td>\n",
              "      <td>5.0</td>\n",
              "    </tr>\n",
              "    <tr>\n",
              "      <th>33</th>\n",
              "      <td>rajat paliwal</td>\n",
              "      <td>DataEngineering</td>\n",
              "      <td>sql</td>\n",
              "      <td>2</td>\n",
              "      <td>5.0</td>\n",
              "    </tr>\n",
              "    <tr>\n",
              "      <th>34</th>\n",
              "      <td>rajat paliwal</td>\n",
              "      <td>Python</td>\n",
              "      <td>sql</td>\n",
              "      <td>2</td>\n",
              "      <td>5.0</td>\n",
              "    </tr>\n",
              "    <tr>\n",
              "      <th>35</th>\n",
              "      <td>rajat paliwal</td>\n",
              "      <td>Python</td>\n",
              "      <td>sql</td>\n",
              "      <td>2</td>\n",
              "      <td>5.0</td>\n",
              "    </tr>\n",
              "    <tr>\n",
              "      <th>36</th>\n",
              "      <td>rajat paliwal</td>\n",
              "      <td>Python</td>\n",
              "      <td>python</td>\n",
              "      <td>4</td>\n",
              "      <td>2.0</td>\n",
              "    </tr>\n",
              "    <tr>\n",
              "      <th>37</th>\n",
              "      <td>rajat paliwal</td>\n",
              "      <td>DataEngineering</td>\n",
              "      <td>s3</td>\n",
              "      <td>2</td>\n",
              "      <td>5.0</td>\n",
              "    </tr>\n",
              "    <tr>\n",
              "      <th>38</th>\n",
              "      <td>rajat paliwal</td>\n",
              "      <td>DataEngineering</td>\n",
              "      <td>s3</td>\n",
              "      <td>2</td>\n",
              "      <td>10.0</td>\n",
              "    </tr>\n",
              "    <tr>\n",
              "      <th>39</th>\n",
              "      <td>rajat paliwal</td>\n",
              "      <td>Python</td>\n",
              "      <td>s3</td>\n",
              "      <td>2</td>\n",
              "      <td>5.0</td>\n",
              "    </tr>\n",
              "    <tr>\n",
              "      <th>40</th>\n",
              "      <td>rajat paliwal</td>\n",
              "      <td>Python</td>\n",
              "      <td>s3</td>\n",
              "      <td>2</td>\n",
              "      <td>10.0</td>\n",
              "    </tr>\n",
              "    <tr>\n",
              "      <th>41</th>\n",
              "      <td>rajat paliwal</td>\n",
              "      <td>DataEngineering</td>\n",
              "      <td>ec2</td>\n",
              "      <td>1</td>\n",
              "      <td>7.0</td>\n",
              "    </tr>\n",
              "    <tr>\n",
              "      <th>42</th>\n",
              "      <td>rajat paliwal</td>\n",
              "      <td>DataEngineering</td>\n",
              "      <td>ec2</td>\n",
              "      <td>1</td>\n",
              "      <td>10.0</td>\n",
              "    </tr>\n",
              "    <tr>\n",
              "      <th>43</th>\n",
              "      <td>rajat paliwal</td>\n",
              "      <td>Python</td>\n",
              "      <td>ec2</td>\n",
              "      <td>1</td>\n",
              "      <td>7.0</td>\n",
              "    </tr>\n",
              "    <tr>\n",
              "      <th>44</th>\n",
              "      <td>rajat paliwal</td>\n",
              "      <td>Python</td>\n",
              "      <td>ec2</td>\n",
              "      <td>1</td>\n",
              "      <td>10.0</td>\n",
              "    </tr>\n",
              "    <tr>\n",
              "      <th>45</th>\n",
              "      <td>rajat paliwal</td>\n",
              "      <td>DataEngineering</td>\n",
              "      <td>aws</td>\n",
              "      <td>1</td>\n",
              "      <td>10.0</td>\n",
              "    </tr>\n",
              "  </tbody>\n",
              "</table>\n",
              "</div>"
            ],
            "text/plain": [
              "   Candidate Name          Subject     Keyword  Count  WeightageScore\n",
              "0   mayank rajput           Python      python      5             2.0\n",
              "1   mayank rajput             Java       agile      1             NaN\n",
              "2   mayank rajput  DataEngineering        hive      2             2.0\n",
              "3   mayank rajput  DataEngineering        hive      2             5.0\n",
              "4   mayank rajput           Python        hive      2             2.0\n",
              "5   mayank rajput           Python        hive      2             5.0\n",
              "6   mayank rajput  DataEngineering         sql      2             5.0\n",
              "7   mayank rajput  DataEngineering         sql      2             5.0\n",
              "8   mayank rajput           Python         sql      2             5.0\n",
              "9   mayank rajput           Python         sql      2             5.0\n",
              "10  mayank rajput           Python      pandas      1             5.0\n",
              "11  mayank rajput           Python       numpy      1             3.0\n",
              "12  mayank rajput           Python  matplotlib      1             1.0\n",
              "13  mayank rajput             Java        java      1             NaN\n",
              "14     sumitpawar  DataEngineering      hadoop     15             5.0\n",
              "15     sumitpawar  DataEngineering        hive     21             2.0\n",
              "16     sumitpawar  DataEngineering        hive     21             5.0\n",
              "17     sumitpawar           Python        hive     21             2.0\n",
              "18     sumitpawar           Python        hive     21             5.0\n",
              "19     sumitpawar           Python      python      3             2.0\n",
              "20     sumitpawar  DataEngineering         sql      1             5.0\n",
              "21     sumitpawar  DataEngineering         sql      1             5.0\n",
              "22     sumitpawar           Python         sql      1             5.0\n",
              "23     sumitpawar           Python         sql      1             5.0\n",
              "24     sumitpawar             Java      oracle      4             NaN\n",
              "25     sumitpawar  DataEngineering         aws      1            10.0\n",
              "26     sumitpawar             Java        java      1             NaN\n",
              "27     sumitpawar  DataEngineering    teradata      1             2.0\n",
              "28     sumitpawar  DataEngineering    teradata      1             5.0\n",
              "29     sumitpawar           Python    teradata      1             2.0\n",
              "30     sumitpawar           Python    teradata      1             5.0\n",
              "31  rajat paliwal  DataEngineering      hadoop      5             5.0\n",
              "32  rajat paliwal  DataEngineering         sql      2             5.0\n",
              "33  rajat paliwal  DataEngineering         sql      2             5.0\n",
              "34  rajat paliwal           Python         sql      2             5.0\n",
              "35  rajat paliwal           Python         sql      2             5.0\n",
              "36  rajat paliwal           Python      python      4             2.0\n",
              "37  rajat paliwal  DataEngineering          s3      2             5.0\n",
              "38  rajat paliwal  DataEngineering          s3      2            10.0\n",
              "39  rajat paliwal           Python          s3      2             5.0\n",
              "40  rajat paliwal           Python          s3      2            10.0\n",
              "41  rajat paliwal  DataEngineering         ec2      1             7.0\n",
              "42  rajat paliwal  DataEngineering         ec2      1            10.0\n",
              "43  rajat paliwal           Python         ec2      1             7.0\n",
              "44  rajat paliwal           Python         ec2      1            10.0\n",
              "45  rajat paliwal  DataEngineering         aws      1            10.0"
            ]
          },
          "metadata": {},
          "execution_count": 69
        }
      ]
    },
    {
      "cell_type": "code",
      "metadata": {
        "id": "-2zQu0Bn-aed",
        "colab": {
          "base_uri": "https://localhost:8080/",
          "height": 548
        },
        "outputId": "557f4c4c-1e97-4f7c-a15a-16190f7b5b4a"
      },
      "source": [
        "df2=prepdf[['Candidate Name','Subject','WeightageScore']].groupby(by=['Candidate Name','Subject'],sort=False).sum().unstack()\n",
        "# plot with annotations is probably easier\n",
        "p1 = df2.plot.bar(figsize=(20, 8), ylabel='WeightageScore', title=\"Resume Weightage By Category\")\n",
        "p1.set_xticklabels(p1.get_xticklabels(), rotation=30)\n",
        "\n",
        "\n",
        "for p in p1.patches:\n",
        "    p1.annotate(f'{p.get_height():0.0f}', (p.get_x() + p.get_width() / 2.,\n",
        "        p.get_height()), ha = 'center', va = 'center', xytext = (0, 10), \n",
        "        textcoords = 'offset points')\n",
        "\n",
        "p1.figure.savefig('python_pretty_plot.png')"
      ],
      "execution_count": null,
      "outputs": [
        {
          "output_type": "display_data",
          "data": {
            "image/png": "[encoded data removed]",
            "text/plain": [
              "<Figure size 1440x576 with 1 Axes>"
            ]
          },
          "metadata": {
            "needs_background": "light"
          }
        }
      ]
    },
    {
      "cell_type": "code",
      "metadata": {
        "id": "qz2Bly1hBlti",
        "colab": {
          "base_uri": "https://localhost:8080/",
          "height": 1000
        },
        "outputId": "0fd129f0-73dc-41de-fb2a-75fdb51041a4"
      },
      "source": [
        "prepdf"
      ],
      "execution_count": null,
      "outputs": [
        {
          "output_type": "execute_result",
          "data": {
            "text/html": [
              "<div>\n",
              "<style scoped>\n",
              "    .dataframe tbody tr th:only-of-type {\n",
              "        vertical-align: middle;\n",
              "    }\n",
              "\n",
              "    .dataframe tbody tr th {\n",
              "        vertical-align: top;\n",
              "    }\n",
              "\n",
              "    .dataframe thead th {\n",
              "        text-align: right;\n",
              "    }\n",
              "</style>\n",
              "<table border=\"1\" class=\"dataframe\">\n",
              "  <thead>\n",
              "    <tr style=\"text-align: right;\">\n",
              "      <th></th>\n",
              "      <th>Candidate Name</th>\n",
              "      <th>Subject</th>\n",
              "      <th>Keyword</th>\n",
              "      <th>Count</th>\n",
              "      <th>WeightageScore</th>\n",
              "    </tr>\n",
              "  </thead>\n",
              "  <tbody>\n",
              "    <tr>\n",
              "      <th>0</th>\n",
              "      <td>mayank rajput</td>\n",
              "      <td>Python</td>\n",
              "      <td>python</td>\n",
              "      <td>5</td>\n",
              "      <td>2.0</td>\n",
              "    </tr>\n",
              "    <tr>\n",
              "      <th>1</th>\n",
              "      <td>mayank rajput</td>\n",
              "      <td>Java</td>\n",
              "      <td>agile</td>\n",
              "      <td>1</td>\n",
              "      <td>NaN</td>\n",
              "    </tr>\n",
              "    <tr>\n",
              "      <th>2</th>\n",
              "      <td>mayank rajput</td>\n",
              "      <td>DataEngineering</td>\n",
              "      <td>hive</td>\n",
              "      <td>2</td>\n",
              "      <td>2.0</td>\n",
              "    </tr>\n",
              "    <tr>\n",
              "      <th>3</th>\n",
              "      <td>mayank rajput</td>\n",
              "      <td>DataEngineering</td>\n",
              "      <td>hive</td>\n",
              "      <td>2</td>\n",
              "      <td>5.0</td>\n",
              "    </tr>\n",
              "    <tr>\n",
              "      <th>4</th>\n",
              "      <td>mayank rajput</td>\n",
              "      <td>Python</td>\n",
              "      <td>hive</td>\n",
              "      <td>2</td>\n",
              "      <td>2.0</td>\n",
              "    </tr>\n",
              "    <tr>\n",
              "      <th>5</th>\n",
              "      <td>mayank rajput</td>\n",
              "      <td>Python</td>\n",
              "      <td>hive</td>\n",
              "      <td>2</td>\n",
              "      <td>5.0</td>\n",
              "    </tr>\n",
              "    <tr>\n",
              "      <th>6</th>\n",
              "      <td>mayank rajput</td>\n",
              "      <td>DataEngineering</td>\n",
              "      <td>sql</td>\n",
              "      <td>2</td>\n",
              "      <td>5.0</td>\n",
              "    </tr>\n",
              "    <tr>\n",
              "      <th>7</th>\n",
              "      <td>mayank rajput</td>\n",
              "      <td>DataEngineering</td>\n",
              "      <td>sql</td>\n",
              "      <td>2</td>\n",
              "      <td>5.0</td>\n",
              "    </tr>\n",
              "    <tr>\n",
              "      <th>8</th>\n",
              "      <td>mayank rajput</td>\n",
              "      <td>Python</td>\n",
              "      <td>sql</td>\n",
              "      <td>2</td>\n",
              "      <td>5.0</td>\n",
              "    </tr>\n",
              "    <tr>\n",
              "      <th>9</th>\n",
              "      <td>mayank rajput</td>\n",
              "      <td>Python</td>\n",
              "      <td>sql</td>\n",
              "      <td>2</td>\n",
              "      <td>5.0</td>\n",
              "    </tr>\n",
              "    <tr>\n",
              "      <th>10</th>\n",
              "      <td>mayank rajput</td>\n",
              "      <td>Python</td>\n",
              "      <td>pandas</td>\n",
              "      <td>1</td>\n",
              "      <td>5.0</td>\n",
              "    </tr>\n",
              "    <tr>\n",
              "      <th>11</th>\n",
              "      <td>mayank rajput</td>\n",
              "      <td>Python</td>\n",
              "      <td>numpy</td>\n",
              "      <td>1</td>\n",
              "      <td>3.0</td>\n",
              "    </tr>\n",
              "    <tr>\n",
              "      <th>12</th>\n",
              "      <td>mayank rajput</td>\n",
              "      <td>Python</td>\n",
              "      <td>matplotlib</td>\n",
              "      <td>1</td>\n",
              "      <td>1.0</td>\n",
              "    </tr>\n",
              "    <tr>\n",
              "      <th>13</th>\n",
              "      <td>mayank rajput</td>\n",
              "      <td>Java</td>\n",
              "      <td>java</td>\n",
              "      <td>1</td>\n",
              "      <td>NaN</td>\n",
              "    </tr>\n",
              "    <tr>\n",
              "      <th>14</th>\n",
              "      <td>sumitpawar</td>\n",
              "      <td>DataEngineering</td>\n",
              "      <td>hadoop</td>\n",
              "      <td>15</td>\n",
              "      <td>5.0</td>\n",
              "    </tr>\n",
              "    <tr>\n",
              "      <th>15</th>\n",
              "      <td>sumitpawar</td>\n",
              "      <td>DataEngineering</td>\n",
              "      <td>hive</td>\n",
              "      <td>21</td>\n",
              "      <td>2.0</td>\n",
              "    </tr>\n",
              "    <tr>\n",
              "      <th>16</th>\n",
              "      <td>sumitpawar</td>\n",
              "      <td>DataEngineering</td>\n",
              "      <td>hive</td>\n",
              "      <td>21</td>\n",
              "      <td>5.0</td>\n",
              "    </tr>\n",
              "    <tr>\n",
              "      <th>17</th>\n",
              "      <td>sumitpawar</td>\n",
              "      <td>Python</td>\n",
              "      <td>hive</td>\n",
              "      <td>21</td>\n",
              "      <td>2.0</td>\n",
              "    </tr>\n",
              "    <tr>\n",
              "      <th>18</th>\n",
              "      <td>sumitpawar</td>\n",
              "      <td>Python</td>\n",
              "      <td>hive</td>\n",
              "      <td>21</td>\n",
              "      <td>5.0</td>\n",
              "    </tr>\n",
              "    <tr>\n",
              "      <th>19</th>\n",
              "      <td>sumitpawar</td>\n",
              "      <td>Python</td>\n",
              "      <td>python</td>\n",
              "      <td>3</td>\n",
              "      <td>2.0</td>\n",
              "    </tr>\n",
              "    <tr>\n",
              "      <th>20</th>\n",
              "      <td>sumitpawar</td>\n",
              "      <td>DataEngineering</td>\n",
              "      <td>sql</td>\n",
              "      <td>1</td>\n",
              "      <td>5.0</td>\n",
              "    </tr>\n",
              "    <tr>\n",
              "      <th>21</th>\n",
              "      <td>sumitpawar</td>\n",
              "      <td>DataEngineering</td>\n",
              "      <td>sql</td>\n",
              "      <td>1</td>\n",
              "      <td>5.0</td>\n",
              "    </tr>\n",
              "    <tr>\n",
              "      <th>22</th>\n",
              "      <td>sumitpawar</td>\n",
              "      <td>Python</td>\n",
              "      <td>sql</td>\n",
              "      <td>1</td>\n",
              "      <td>5.0</td>\n",
              "    </tr>\n",
              "    <tr>\n",
              "      <th>23</th>\n",
              "      <td>sumitpawar</td>\n",
              "      <td>Python</td>\n",
              "      <td>sql</td>\n",
              "      <td>1</td>\n",
              "      <td>5.0</td>\n",
              "    </tr>\n",
              "    <tr>\n",
              "      <th>24</th>\n",
              "      <td>sumitpawar</td>\n",
              "      <td>Java</td>\n",
              "      <td>oracle</td>\n",
              "      <td>4</td>\n",
              "      <td>NaN</td>\n",
              "    </tr>\n",
              "    <tr>\n",
              "      <th>25</th>\n",
              "      <td>sumitpawar</td>\n",
              "      <td>DataEngineering</td>\n",
              "      <td>aws</td>\n",
              "      <td>1</td>\n",
              "      <td>10.0</td>\n",
              "    </tr>\n",
              "    <tr>\n",
              "      <th>26</th>\n",
              "      <td>sumitpawar</td>\n",
              "      <td>Java</td>\n",
              "      <td>java</td>\n",
              "      <td>1</td>\n",
              "      <td>NaN</td>\n",
              "    </tr>\n",
              "    <tr>\n",
              "      <th>27</th>\n",
              "      <td>sumitpawar</td>\n",
              "      <td>DataEngineering</td>\n",
              "      <td>teradata</td>\n",
              "      <td>1</td>\n",
              "      <td>2.0</td>\n",
              "    </tr>\n",
              "    <tr>\n",
              "      <th>28</th>\n",
              "      <td>sumitpawar</td>\n",
              "      <td>DataEngineering</td>\n",
              "      <td>teradata</td>\n",
              "      <td>1</td>\n",
              "      <td>5.0</td>\n",
              "    </tr>\n",
              "    <tr>\n",
              "      <th>29</th>\n",
              "      <td>sumitpawar</td>\n",
              "      <td>Python</td>\n",
              "      <td>teradata</td>\n",
              "      <td>1</td>\n",
              "      <td>2.0</td>\n",
              "    </tr>\n",
              "    <tr>\n",
              "      <th>30</th>\n",
              "      <td>sumitpawar</td>\n",
              "      <td>Python</td>\n",
              "      <td>teradata</td>\n",
              "      <td>1</td>\n",
              "      <td>5.0</td>\n",
              "    </tr>\n",
              "    <tr>\n",
              "      <th>31</th>\n",
              "      <td>rajat paliwal</td>\n",
              "      <td>DataEngineering</td>\n",
              "      <td>hadoop</td>\n",
              "      <td>5</td>\n",
              "      <td>5.0</td>\n",
              "    </tr>\n",
              "    <tr>\n",
              "      <th>32</th>\n",
              "      <td>rajat paliwal</td>\n",
              "      <td>DataEngineering</td>\n",
              "      <td>sql</td>\n",
              "      <td>2</td>\n",
              "      <td>5.0</td>\n",
              "    </tr>\n",
              "    <tr>\n",
              "      <th>33</th>\n",
              "      <td>rajat paliwal</td>\n",
              "      <td>DataEngineering</td>\n",
              "      <td>sql</td>\n",
              "      <td>2</td>\n",
              "      <td>5.0</td>\n",
              "    </tr>\n",
              "    <tr>\n",
              "      <th>34</th>\n",
              "      <td>rajat paliwal</td>\n",
              "      <td>Python</td>\n",
              "      <td>sql</td>\n",
              "      <td>2</td>\n",
              "      <td>5.0</td>\n",
              "    </tr>\n",
              "    <tr>\n",
              "      <th>35</th>\n",
              "      <td>rajat paliwal</td>\n",
              "      <td>Python</td>\n",
              "      <td>sql</td>\n",
              "      <td>2</td>\n",
              "      <td>5.0</td>\n",
              "    </tr>\n",
              "    <tr>\n",
              "      <th>36</th>\n",
              "      <td>rajat paliwal</td>\n",
              "      <td>Python</td>\n",
              "      <td>python</td>\n",
              "      <td>4</td>\n",
              "      <td>2.0</td>\n",
              "    </tr>\n",
              "    <tr>\n",
              "      <th>37</th>\n",
              "      <td>rajat paliwal</td>\n",
              "      <td>DataEngineering</td>\n",
              "      <td>s3</td>\n",
              "      <td>2</td>\n",
              "      <td>5.0</td>\n",
              "    </tr>\n",
              "    <tr>\n",
              "      <th>38</th>\n",
              "      <td>rajat paliwal</td>\n",
              "      <td>DataEngineering</td>\n",
              "      <td>s3</td>\n",
              "      <td>2</td>\n",
              "      <td>10.0</td>\n",
              "    </tr>\n",
              "    <tr>\n",
              "      <th>39</th>\n",
              "      <td>rajat paliwal</td>\n",
              "      <td>Python</td>\n",
              "      <td>s3</td>\n",
              "      <td>2</td>\n",
              "      <td>5.0</td>\n",
              "    </tr>\n",
              "    <tr>\n",
              "      <th>40</th>\n",
              "      <td>rajat paliwal</td>\n",
              "      <td>Python</td>\n",
              "      <td>s3</td>\n",
              "      <td>2</td>\n",
              "      <td>10.0</td>\n",
              "    </tr>\n",
              "    <tr>\n",
              "      <th>41</th>\n",
              "      <td>rajat paliwal</td>\n",
              "      <td>DataEngineering</td>\n",
              "      <td>ec2</td>\n",
              "      <td>1</td>\n",
              "      <td>7.0</td>\n",
              "    </tr>\n",
              "    <tr>\n",
              "      <th>42</th>\n",
              "      <td>rajat paliwal</td>\n",
              "      <td>DataEngineering</td>\n",
              "      <td>ec2</td>\n",
              "      <td>1</td>\n",
              "      <td>10.0</td>\n",
              "    </tr>\n",
              "    <tr>\n",
              "      <th>43</th>\n",
              "      <td>rajat paliwal</td>\n",
              "      <td>Python</td>\n",
              "      <td>ec2</td>\n",
              "      <td>1</td>\n",
              "      <td>7.0</td>\n",
              "    </tr>\n",
              "    <tr>\n",
              "      <th>44</th>\n",
              "      <td>rajat paliwal</td>\n",
              "      <td>Python</td>\n",
              "      <td>ec2</td>\n",
              "      <td>1</td>\n",
              "      <td>10.0</td>\n",
              "    </tr>\n",
              "    <tr>\n",
              "      <th>45</th>\n",
              "      <td>rajat paliwal</td>\n",
              "      <td>DataEngineering</td>\n",
              "      <td>aws</td>\n",
              "      <td>1</td>\n",
              "      <td>10.0</td>\n",
              "    </tr>\n",
              "  </tbody>\n",
              "</table>\n",
              "</div>"
            ],
            "text/plain": [
              "   Candidate Name          Subject     Keyword  Count  WeightageScore\n",
              "0   mayank rajput           Python      python      5             2.0\n",
              "1   mayank rajput             Java       agile      1             NaN\n",
              "2   mayank rajput  DataEngineering        hive      2             2.0\n",
              "3   mayank rajput  DataEngineering        hive      2             5.0\n",
              "4   mayank rajput           Python        hive      2             2.0\n",
              "5   mayank rajput           Python        hive      2             5.0\n",
              "6   mayank rajput  DataEngineering         sql      2             5.0\n",
              "7   mayank rajput  DataEngineering         sql      2             5.0\n",
              "8   mayank rajput           Python         sql      2             5.0\n",
              "9   mayank rajput           Python         sql      2             5.0\n",
              "10  mayank rajput           Python      pandas      1             5.0\n",
              "11  mayank rajput           Python       numpy      1             3.0\n",
              "12  mayank rajput           Python  matplotlib      1             1.0\n",
              "13  mayank rajput             Java        java      1             NaN\n",
              "14     sumitpawar  DataEngineering      hadoop     15             5.0\n",
              "15     sumitpawar  DataEngineering        hive     21             2.0\n",
              "16     sumitpawar  DataEngineering        hive     21             5.0\n",
              "17     sumitpawar           Python        hive     21             2.0\n",
              "18     sumitpawar           Python        hive     21             5.0\n",
              "19     sumitpawar           Python      python      3             2.0\n",
              "20     sumitpawar  DataEngineering         sql      1             5.0\n",
              "21     sumitpawar  DataEngineering         sql      1             5.0\n",
              "22     sumitpawar           Python         sql      1             5.0\n",
              "23     sumitpawar           Python         sql      1             5.0\n",
              "24     sumitpawar             Java      oracle      4             NaN\n",
              "25     sumitpawar  DataEngineering         aws      1            10.0\n",
              "26     sumitpawar             Java        java      1             NaN\n",
              "27     sumitpawar  DataEngineering    teradata      1             2.0\n",
              "28     sumitpawar  DataEngineering    teradata      1             5.0\n",
              "29     sumitpawar           Python    teradata      1             2.0\n",
              "30     sumitpawar           Python    teradata      1             5.0\n",
              "31  rajat paliwal  DataEngineering      hadoop      5             5.0\n",
              "32  rajat paliwal  DataEngineering         sql      2             5.0\n",
              "33  rajat paliwal  DataEngineering         sql      2             5.0\n",
              "34  rajat paliwal           Python         sql      2             5.0\n",
              "35  rajat paliwal           Python         sql      2             5.0\n",
              "36  rajat paliwal           Python      python      4             2.0\n",
              "37  rajat paliwal  DataEngineering          s3      2             5.0\n",
              "38  rajat paliwal  DataEngineering          s3      2            10.0\n",
              "39  rajat paliwal           Python          s3      2             5.0\n",
              "40  rajat paliwal           Python          s3      2            10.0\n",
              "41  rajat paliwal  DataEngineering         ec2      1             7.0\n",
              "42  rajat paliwal  DataEngineering         ec2      1            10.0\n",
              "43  rajat paliwal           Python         ec2      1             7.0\n",
              "44  rajat paliwal           Python         ec2      1            10.0\n",
              "45  rajat paliwal  DataEngineering         aws      1            10.0"
            ]
          },
          "metadata": {},
          "execution_count": 71
        }
      ]
    },
    {
      "cell_type": "code",
      "metadata": {
        "colab": {
          "base_uri": "https://localhost:8080/"
        },
        "id": "j73oLRuo9Ril",
        "outputId": "06a29e76-b01b-4e67-a74e-59da54d777d8"
      },
      "source": [
        "prepdf['Candidate Name'].drop_duplicates().values"
      ],
      "execution_count": null,
      "outputs": [
        {
          "output_type": "execute_result",
          "data": {
            "text/plain": [
              "array(['mayank rajput', 'sumitpawar', 'rajat paliwal'], dtype=object)"
            ]
          },
          "metadata": {},
          "execution_count": 72
        }
      ]
    },
    {
      "cell_type": "code",
      "metadata": {
        "id": "DA_FgUCeoI7g",
        "colab": {
          "base_uri": "https://localhost:8080/"
        },
        "outputId": "9d178ad2-79c2-47b0-dff1-e45ba9f03458"
      },
      "source": [
        "#prepdf['MScore']=prepdf.Count * prepdf.Weightage\n",
        "#prepdf['NormalizeWeightage']=prepdf.Weightage/100\n",
        "prepdf\n",
        "\n",
        "def subjectwisedata(subvar):\n",
        "\n",
        "  prepdf_subject=prepdf[prepdf['Subject']==subvar]\n",
        "  prepdf_subject=prepdf_subject.groupby(by=['Candidate Name'],sort=False).sum()\n",
        "  #prepdf_subject['class']=prepdf_subject['WeightageScore'].apply(lambda x: 1 if x>50 else 0)\n",
        "  return prepdf_subject\n",
        "\n",
        "\n",
        "pythondf=subjectwisedata('Python')\n",
        "pythondf.columns=['Python_Count','Python_WeightageScore']\n",
        "\n",
        "\n",
        "dedf=subjectwisedata('DataEngineering')\n",
        "dedf.columns=['DataEngineering_Count','DataEngineering_WeightageScore']\n",
        "\n",
        "\n",
        "mldf=subjectwisedata('ML')\n",
        "mldf.columns=['ML_Count','ML_WeightageScore']\n",
        "\n",
        "statsdf=subjectwisedata('Stats')\n",
        "statsdf.columns=['Stats_Count','Stats_WeightageScore']\n",
        "\n",
        "nlpdf=subjectwisedata('NLP')\n",
        "nlpdf.columns=['NLP_Count','NLP_WeightageScore']\n",
        "\n",
        "dldf=subjectwisedata('DeepLearning')\n",
        "dldf.columns=['DeepLearning_Count','DeepLearning_WeightageScore']\n",
        "\n",
        "javadf=subjectwisedata('Java')\n",
        "javadf.columns=['Java_Count','Java_WeightageScore']\n",
        "\n",
        "newdf=pythondf.join(dedf)\n",
        "newdf=newdf.join(mldf)\n",
        "newdf=newdf.join(statsdf)\n",
        "newdf=newdf.join(nlpdf)\n",
        "newdf=newdf.join(dldf)\n",
        "newdf=newdf.join(javadf)\n",
        "newdf['Name']=final_database['Candidate Name'].drop_duplicates().values\n",
        "newdf.index"
      ],
      "execution_count": null,
      "outputs": [
        {
          "output_type": "execute_result",
          "data": {
            "text/plain": [
              "Index(['mayank rajput', 'sumitpawar', 'rajat paliwal'], dtype='object', name='Candidate Name')"
            ]
          },
          "metadata": {},
          "execution_count": 73
        }
      ]
    },
    {
      "cell_type": "code",
      "metadata": {
        "id": "UChltGAi-SQW",
        "colab": {
          "base_uri": "https://localhost:8080/",
          "height": 241
        },
        "outputId": "9bf94575-f2f8-4da4-b017-7b922bfa0cd2"
      },
      "source": [
        "newdf"
      ],
      "execution_count": null,
      "outputs": [
        {
          "output_type": "execute_result",
          "data": {
            "text/html": [
              "<div>\n",
              "<style scoped>\n",
              "    .dataframe tbody tr th:only-of-type {\n",
              "        vertical-align: middle;\n",
              "    }\n",
              "\n",
              "    .dataframe tbody tr th {\n",
              "        vertical-align: top;\n",
              "    }\n",
              "\n",
              "    .dataframe thead th {\n",
              "        text-align: right;\n",
              "    }\n",
              "</style>\n",
              "<table border=\"1\" class=\"dataframe\">\n",
              "  <thead>\n",
              "    <tr style=\"text-align: right;\">\n",
              "      <th></th>\n",
              "      <th>Python_Count</th>\n",
              "      <th>Python_WeightageScore</th>\n",
              "      <th>DataEngineering_Count</th>\n",
              "      <th>DataEngineering_WeightageScore</th>\n",
              "      <th>ML_Count</th>\n",
              "      <th>ML_WeightageScore</th>\n",
              "      <th>Stats_Count</th>\n",
              "      <th>Stats_WeightageScore</th>\n",
              "      <th>NLP_Count</th>\n",
              "      <th>NLP_WeightageScore</th>\n",
              "      <th>DeepLearning_Count</th>\n",
              "      <th>DeepLearning_WeightageScore</th>\n",
              "      <th>Java_Count</th>\n",
              "      <th>Java_WeightageScore</th>\n",
              "      <th>Name</th>\n",
              "    </tr>\n",
              "    <tr>\n",
              "      <th>Candidate Name</th>\n",
              "      <th></th>\n",
              "      <th></th>\n",
              "      <th></th>\n",
              "      <th></th>\n",
              "      <th></th>\n",
              "      <th></th>\n",
              "      <th></th>\n",
              "      <th></th>\n",
              "      <th></th>\n",
              "      <th></th>\n",
              "      <th></th>\n",
              "      <th></th>\n",
              "      <th></th>\n",
              "      <th></th>\n",
              "      <th></th>\n",
              "    </tr>\n",
              "  </thead>\n",
              "  <tbody>\n",
              "    <tr>\n",
              "      <th>mayank rajput</th>\n",
              "      <td>16</td>\n",
              "      <td>28.0</td>\n",
              "      <td>8</td>\n",
              "      <td>17.0</td>\n",
              "      <td>NaN</td>\n",
              "      <td>NaN</td>\n",
              "      <td>NaN</td>\n",
              "      <td>NaN</td>\n",
              "      <td>NaN</td>\n",
              "      <td>NaN</td>\n",
              "      <td>NaN</td>\n",
              "      <td>NaN</td>\n",
              "      <td>2.0</td>\n",
              "      <td>0.0</td>\n",
              "      <td>mayank rajput</td>\n",
              "    </tr>\n",
              "    <tr>\n",
              "      <th>sumitpawar</th>\n",
              "      <td>49</td>\n",
              "      <td>26.0</td>\n",
              "      <td>62</td>\n",
              "      <td>39.0</td>\n",
              "      <td>NaN</td>\n",
              "      <td>NaN</td>\n",
              "      <td>NaN</td>\n",
              "      <td>NaN</td>\n",
              "      <td>NaN</td>\n",
              "      <td>NaN</td>\n",
              "      <td>NaN</td>\n",
              "      <td>NaN</td>\n",
              "      <td>5.0</td>\n",
              "      <td>0.0</td>\n",
              "      <td>sumitpawar</td>\n",
              "    </tr>\n",
              "    <tr>\n",
              "      <th>rajat paliwal</th>\n",
              "      <td>14</td>\n",
              "      <td>44.0</td>\n",
              "      <td>16</td>\n",
              "      <td>57.0</td>\n",
              "      <td>NaN</td>\n",
              "      <td>NaN</td>\n",
              "      <td>NaN</td>\n",
              "      <td>NaN</td>\n",
              "      <td>NaN</td>\n",
              "      <td>NaN</td>\n",
              "      <td>NaN</td>\n",
              "      <td>NaN</td>\n",
              "      <td>NaN</td>\n",
              "      <td>NaN</td>\n",
              "      <td>rajat paliwal</td>\n",
              "    </tr>\n",
              "  </tbody>\n",
              "</table>\n",
              "</div>"
            ],
            "text/plain": [
              "                Python_Count  ...           Name\n",
              "Candidate Name                ...               \n",
              "mayank rajput             16  ...  mayank rajput\n",
              "sumitpawar                49  ...     sumitpawar\n",
              "rajat paliwal             14  ...  rajat paliwal\n",
              "\n",
              "[3 rows x 15 columns]"
            ]
          },
          "metadata": {},
          "execution_count": 74
        }
      ]
    },
    {
      "cell_type": "code",
      "metadata": {
        "id": "xe1WgtEuGyWd",
        "colab": {
          "base_uri": "https://localhost:8080/",
          "height": 141
        },
        "outputId": "3f91dc95-cafc-4c08-b92d-48103be2d4fc"
      },
      "source": [
        "outputdf"
      ],
      "execution_count": null,
      "outputs": [
        {
          "output_type": "execute_result",
          "data": {
            "text/html": [
              "<div>\n",
              "<style scoped>\n",
              "    .dataframe tbody tr th:only-of-type {\n",
              "        vertical-align: middle;\n",
              "    }\n",
              "\n",
              "    .dataframe tbody tr th {\n",
              "        vertical-align: top;\n",
              "    }\n",
              "\n",
              "    .dataframe thead th {\n",
              "        text-align: right;\n",
              "    }\n",
              "</style>\n",
              "<table border=\"1\" class=\"dataframe\">\n",
              "  <thead>\n",
              "    <tr style=\"text-align: right;\">\n",
              "      <th></th>\n",
              "      <th>Name</th>\n",
              "      <th>Class</th>\n",
              "    </tr>\n",
              "  </thead>\n",
              "  <tbody>\n",
              "    <tr>\n",
              "      <th>0</th>\n",
              "      <td>/content/ResumeRanking/resumetest/Mayank Rajput.pdf</td>\n",
              "      <td>Selected</td>\n",
              "    </tr>\n",
              "    <tr>\n",
              "      <th>1</th>\n",
              "      <td>/content/ResumeRanking/resumetest/SumitPawar.pdf</td>\n",
              "      <td>Selected</td>\n",
              "    </tr>\n",
              "    <tr>\n",
              "      <th>2</th>\n",
              "      <td>/content/ResumeRanking/resumetest/RAJAT PALIWAL.pdf</td>\n",
              "      <td>Selected</td>\n",
              "    </tr>\n",
              "  </tbody>\n",
              "</table>\n",
              "</div>"
            ],
            "text/plain": [
              "                                                  Name     Class\n",
              "0  /content/ResumeRanking/resumetest/Mayank Rajput.pdf  Selected\n",
              "1     /content/ResumeRanking/resumetest/SumitPawar.pdf  Selected\n",
              "2  /content/ResumeRanking/resumetest/RAJAT PALIWAL.pdf  Selected"
            ]
          },
          "metadata": {},
          "execution_count": 75
        }
      ]
    },
    {
      "cell_type": "code",
      "metadata": {
        "id": "nhTud17b0xBv",
        "colab": {
          "base_uri": "https://localhost:8080/"
        },
        "outputId": "55688019-becb-43e8-ca26-eeac550a1f6f"
      },
      "source": [
        "final_database['Candidate Name'].drop_duplicates().values"
      ],
      "execution_count": null,
      "outputs": [
        {
          "output_type": "execute_result",
          "data": {
            "text/plain": [
              "array(['mayank rajput', 'sumitpawar', 'rajat paliwal'], dtype=object)"
            ]
          },
          "metadata": {},
          "execution_count": 76
        }
      ]
    },
    {
      "cell_type": "code",
      "metadata": {
        "id": "_7Th_hGvpt2-",
        "colab": {
          "base_uri": "https://localhost:8080/",
          "height": 141
        },
        "outputId": "170dbe97-bbe3-4bdd-cd95-0e0f90629086"
      },
      "source": [
        "outputdf.drop('Name', axis=1, inplace=True)\n",
        "outputdf['Name']=final_database['Candidate Name'].drop_duplicates().values\n",
        "outputdf=outputdf.merge(newdf)\n",
        "\n",
        "outputdf=outputdf[['Name','Class', 'Python_WeightageScore',\n",
        "        'DataEngineering_WeightageScore',\n",
        "       'ML_WeightageScore', \n",
        "       'DeepLearning_WeightageScore',\n",
        "       ]]\n",
        "\n",
        "outputdf\n"
      ],
      "execution_count": null,
      "outputs": [
        {
          "output_type": "execute_result",
          "data": {
            "text/html": [
              "<div>\n",
              "<style scoped>\n",
              "    .dataframe tbody tr th:only-of-type {\n",
              "        vertical-align: middle;\n",
              "    }\n",
              "\n",
              "    .dataframe tbody tr th {\n",
              "        vertical-align: top;\n",
              "    }\n",
              "\n",
              "    .dataframe thead th {\n",
              "        text-align: right;\n",
              "    }\n",
              "</style>\n",
              "<table border=\"1\" class=\"dataframe\">\n",
              "  <thead>\n",
              "    <tr style=\"text-align: right;\">\n",
              "      <th></th>\n",
              "      <th>Name</th>\n",
              "      <th>Class</th>\n",
              "      <th>Python_WeightageScore</th>\n",
              "      <th>DataEngineering_WeightageScore</th>\n",
              "      <th>ML_WeightageScore</th>\n",
              "      <th>DeepLearning_WeightageScore</th>\n",
              "    </tr>\n",
              "  </thead>\n",
              "  <tbody>\n",
              "    <tr>\n",
              "      <th>0</th>\n",
              "      <td>mayank rajput</td>\n",
              "      <td>Selected</td>\n",
              "      <td>28.0</td>\n",
              "      <td>17.0</td>\n",
              "      <td>NaN</td>\n",
              "      <td>NaN</td>\n",
              "    </tr>\n",
              "    <tr>\n",
              "      <th>1</th>\n",
              "      <td>sumitpawar</td>\n",
              "      <td>Selected</td>\n",
              "      <td>26.0</td>\n",
              "      <td>39.0</td>\n",
              "      <td>NaN</td>\n",
              "      <td>NaN</td>\n",
              "    </tr>\n",
              "    <tr>\n",
              "      <th>2</th>\n",
              "      <td>rajat paliwal</td>\n",
              "      <td>Selected</td>\n",
              "      <td>44.0</td>\n",
              "      <td>57.0</td>\n",
              "      <td>NaN</td>\n",
              "      <td>NaN</td>\n",
              "    </tr>\n",
              "  </tbody>\n",
              "</table>\n",
              "</div>"
            ],
            "text/plain": [
              "            Name     Class  ...  ML_WeightageScore  DeepLearning_WeightageScore\n",
              "0  mayank rajput  Selected  ...                NaN                          NaN\n",
              "1     sumitpawar  Selected  ...                NaN                          NaN\n",
              "2  rajat paliwal  Selected  ...                NaN                          NaN\n",
              "\n",
              "[3 rows x 6 columns]"
            ]
          },
          "metadata": {},
          "execution_count": 77
        }
      ]
    },
    {
      "cell_type": "code",
      "metadata": {
        "id": "qTjF4cXBpewf"
      },
      "source": [
        "#\n",
        "#cm = confusion_matrix(y_test, y_predict_test)\n",
        "#ConfusionMatrix=sns.heatmap(RFcm, annot = True)\n",
        "#ConfusionMatrix.figure.savefig(\"ConfusionMatrix.png\")"
      ],
      "execution_count": null,
      "outputs": []
    },
    {
      "cell_type": "code",
      "metadata": {
        "id": "kXBLSn-TUR23",
        "colab": {
          "base_uri": "https://localhost:8080/",
          "height": 141
        },
        "outputId": "e0dd9563-f766-43c6-93f4-63d9dd74b7f4"
      },
      "source": [
        "noutputdf=outputdf[outputdf['Class']=='Selected']\n",
        "noutputdf=noutputdf.fillna('NA')\n",
        "noutputdf.reset_index(drop=True)"
      ],
      "execution_count": null,
      "outputs": [
        {
          "output_type": "execute_result",
          "data": {
            "text/html": [
              "<div>\n",
              "<style scoped>\n",
              "    .dataframe tbody tr th:only-of-type {\n",
              "        vertical-align: middle;\n",
              "    }\n",
              "\n",
              "    .dataframe tbody tr th {\n",
              "        vertical-align: top;\n",
              "    }\n",
              "\n",
              "    .dataframe thead th {\n",
              "        text-align: right;\n",
              "    }\n",
              "</style>\n",
              "<table border=\"1\" class=\"dataframe\">\n",
              "  <thead>\n",
              "    <tr style=\"text-align: right;\">\n",
              "      <th></th>\n",
              "      <th>Name</th>\n",
              "      <th>Class</th>\n",
              "      <th>Python_WeightageScore</th>\n",
              "      <th>DataEngineering_WeightageScore</th>\n",
              "      <th>ML_WeightageScore</th>\n",
              "      <th>DeepLearning_WeightageScore</th>\n",
              "    </tr>\n",
              "  </thead>\n",
              "  <tbody>\n",
              "    <tr>\n",
              "      <th>0</th>\n",
              "      <td>mayank rajput</td>\n",
              "      <td>Selected</td>\n",
              "      <td>28.0</td>\n",
              "      <td>17.0</td>\n",
              "      <td>NA</td>\n",
              "      <td>NA</td>\n",
              "    </tr>\n",
              "    <tr>\n",
              "      <th>1</th>\n",
              "      <td>sumitpawar</td>\n",
              "      <td>Selected</td>\n",
              "      <td>26.0</td>\n",
              "      <td>39.0</td>\n",
              "      <td>NA</td>\n",
              "      <td>NA</td>\n",
              "    </tr>\n",
              "    <tr>\n",
              "      <th>2</th>\n",
              "      <td>rajat paliwal</td>\n",
              "      <td>Selected</td>\n",
              "      <td>44.0</td>\n",
              "      <td>57.0</td>\n",
              "      <td>NA</td>\n",
              "      <td>NA</td>\n",
              "    </tr>\n",
              "  </tbody>\n",
              "</table>\n",
              "</div>"
            ],
            "text/plain": [
              "            Name     Class  ...  ML_WeightageScore  DeepLearning_WeightageScore\n",
              "0  mayank rajput  Selected  ...                 NA                           NA\n",
              "1     sumitpawar  Selected  ...                 NA                           NA\n",
              "2  rajat paliwal  Selected  ...                 NA                           NA\n",
              "\n",
              "[3 rows x 6 columns]"
            ]
          },
          "metadata": {},
          "execution_count": 79
        }
      ]
    },
    {
      "cell_type": "code",
      "metadata": {
        "id": "eOZyOsUAUKty"
      },
      "source": [
        "\n",
        "\n",
        "# writer = pd.ExcelWriter('/content/ResumeRanking/MLFinal.xlsx', engine = 'xlsxwriter')\n",
        "# noutputdf.to_excel(writer, sheet_name='AWS_PYTHON Developer',index=False)\n",
        "# # create an empty dataframe\n",
        "# my_df  = pd.DataFrame()\n",
        "# my_df.to_excel(writer, sheet_name='Graph',index=False)\n",
        "# worksheet = writer.sheets['Graph']\n",
        "\n",
        "# worksheet.insert_image('C8','python_pretty_plot.png')\n",
        "# my_df1  = pd.DataFrame()\n",
        "# my_df1.to_excel(writer, sheet_name='ConfusionMatrix',index=False)\n",
        "# worksheet = writer.sheets['ConfusionMatrix']\n",
        "\n",
        "# worksheet.insert_image('C8','ConfusionMatrix.png')\n",
        "\n",
        "# writer.save()"
      ],
      "execution_count": null,
      "outputs": []
    },
    {
      "cell_type": "code",
      "metadata": {
        "id": "P2t8hU3LcQtL",
        "colab": {
          "base_uri": "https://localhost:8080/",
          "height": 79
        },
        "outputId": "bdc39973-5de4-4e5d-8280-6e2f050353fc"
      },
      "source": [
        "sdf=summarydf.to_frame(name='Count')\n",
        "if rjoutputdf.empty:\n",
        "  sdf=sdf.set_index([pd.Index(['Selected'])])\n",
        "elif noutputdf.empty:\n",
        "  sdf=sdf.set_index([pd.Index(['To Be Reviewed'])])\n",
        "else:\n",
        "  sdf=sdf.set_index([pd.Index(['To Be Reviewed','Selected'])])\n",
        "sdf"
      ],
      "execution_count": null,
      "outputs": [
        {
          "output_type": "execute_result",
          "data": {
            "text/html": [
              "<div>\n",
              "<style scoped>\n",
              "    .dataframe tbody tr th:only-of-type {\n",
              "        vertical-align: middle;\n",
              "    }\n",
              "\n",
              "    .dataframe tbody tr th {\n",
              "        vertical-align: top;\n",
              "    }\n",
              "\n",
              "    .dataframe thead th {\n",
              "        text-align: right;\n",
              "    }\n",
              "</style>\n",
              "<table border=\"1\" class=\"dataframe\">\n",
              "  <thead>\n",
              "    <tr style=\"text-align: right;\">\n",
              "      <th></th>\n",
              "      <th>Count</th>\n",
              "    </tr>\n",
              "  </thead>\n",
              "  <tbody>\n",
              "    <tr>\n",
              "      <th>Selected</th>\n",
              "      <td>3</td>\n",
              "    </tr>\n",
              "  </tbody>\n",
              "</table>\n",
              "</div>"
            ],
            "text/plain": [
              "          Count\n",
              "Selected      3"
            ]
          },
          "metadata": {},
          "execution_count": 81
        }
      ]
    },
    {
      "cell_type": "code",
      "metadata": {
        "id": "9lJOtGU5uZuS",
        "colab": {
          "base_uri": "https://localhost:8080/",
          "height": 35
        },
        "outputId": "6d4f36c2-a01d-4c6e-8d0f-fba1efdea13b"
      },
      "source": [
        "# ct stores current time\n",
        "from datetime import datetime\n",
        "\n",
        "ct=datetime.now().strftime(\"%Y-%m-%d %I:%M:%S %p\")\n",
        "ct\n",
        "filename='/content/ResumeRanking/PythonResumes'+ct+'.xlsx'\n",
        "filename"
      ],
      "execution_count": null,
      "outputs": [
        {
          "output_type": "execute_result",
          "data": {
            "application/vnd.google.colaboratory.intrinsic+json": {
              "type": "string"
            },
            "text/plain": [
              "'/content/ResumeRanking/PythonResumes2021-10-22 06:24:31 AM.xlsx'"
            ]
          },
          "metadata": {},
          "execution_count": 82
        }
      ]
    },
    {
      "cell_type": "code",
      "metadata": {
        "id": "u3_mCbvzE4FS"
      },
      "source": [
        "\n",
        "writer = pd.ExcelWriter(filename, engine = 'xlsxwriter')\n",
        "\n",
        "sdf.to_excel(writer, sheet_name='Summary',index=True)\n",
        "noutputdf.to_excel(writer, sheet_name='AWS_PYTHON Developer Selected',index=False)\n",
        "rjoutputdf.to_excel(writer, sheet_name='To Be Reviewed',index=False)\n",
        "\n",
        "# create an empty dataframe\n",
        "my_df  = pd.DataFrame()\n",
        "my_df.to_excel(writer, sheet_name='Graph',index=False)\n",
        "worksheet = writer.sheets['Graph']\n",
        "\n",
        "worksheet.insert_image('B2','python_pretty_plot.png')\n",
        "my_df1  = pd.DataFrame()\n",
        "my_df1.to_excel(writer, sheet_name='ConfusionMatrix',index=False)\n",
        "worksheet = writer.sheets['ConfusionMatrix']\n",
        "\n",
        "worksheet.insert_image('C8','ConfusionMatrix.png')\n",
        "\n",
        "writer.save()\n"
      ],
      "execution_count": null,
      "outputs": []
    }
  ]
}